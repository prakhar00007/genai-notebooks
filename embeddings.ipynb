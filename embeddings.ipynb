{
  "nbformat": 4,
  "nbformat_minor": 0,
  "metadata": {
    "colab": {
      "provenance": [],
      "authorship_tag": "ABX9TyMoEWO3Z8nKG+ZwtE+Zymnt",
      "include_colab_link": true
    },
    "kernelspec": {
      "name": "python3",
      "display_name": "Python 3"
    },
    "language_info": {
      "name": "python"
    }
  },
  "cells": [
    {
      "cell_type": "markdown",
      "metadata": {
        "id": "view-in-github",
        "colab_type": "text"
      },
      "source": [
        "<a href=\"https://colab.research.google.com/github/prakhar00007/genai-notebooks/blob/main/embeddings.ipynb\" target=\"_parent\"><img src=\"https://colab.research.google.com/assets/colab-badge.svg\" alt=\"Open In Colab\"/></a>"
      ]
    },
    {
      "cell_type": "markdown",
      "source": [
        "## One Hot Encoding"
      ],
      "metadata": {
        "id": "lITUbFUPz6ZO"
      }
    },
    {
      "cell_type": "code",
      "source": [
        "corpus=['I love NLP','I teach Gen AI',\"I am working on Euron\"]"
      ],
      "metadata": {
        "id": "1tkM7i_c0AZe"
      },
      "execution_count": null,
      "outputs": []
    },
    {
      "cell_type": "code",
      "source": [
        "corpus= [text.lower() for text in corpus]\n"
      ],
      "metadata": {
        "id": "bniFEiUW0RlQ"
      },
      "execution_count": null,
      "outputs": []
    },
    {
      "cell_type": "code",
      "source": [
        "corpus"
      ],
      "metadata": {
        "colab": {
          "base_uri": "https://localhost:8080/"
        },
        "id": "j6-Ne6DU0fkj",
        "outputId": "e5bcdbb6-4649-4deb-a97a-b8d127f5def2"
      },
      "execution_count": null,
      "outputs": [
        {
          "output_type": "execute_result",
          "data": {
            "text/plain": [
              "['i love nlp', 'i teach gen ai', 'i am working on euron']"
            ]
          },
          "metadata": {},
          "execution_count": 3
        }
      ]
    },
    {
      "cell_type": "code",
      "source": [
        "unique_words=list(set(\" \".join(corpus).split()))"
      ],
      "metadata": {
        "id": "owuNMSTj0g7x"
      },
      "execution_count": null,
      "outputs": []
    },
    {
      "cell_type": "code",
      "source": [
        "unique_words\n"
      ],
      "metadata": {
        "colab": {
          "base_uri": "https://localhost:8080/"
        },
        "id": "44Nwtu5c09St",
        "outputId": "3c5cc81e-bb6c-4740-c963-9bf5c1fa6c4d"
      },
      "execution_count": null,
      "outputs": [
        {
          "output_type": "execute_result",
          "data": {
            "text/plain": [
              "['working', 'am', 'euron', 'love', 'ai', 'gen', 'teach', 'i', 'on', 'nlp']"
            ]
          },
          "metadata": {},
          "execution_count": 5
        }
      ]
    },
    {
      "cell_type": "code",
      "source": [
        "enumerate(unique_words)"
      ],
      "metadata": {
        "colab": {
          "base_uri": "https://localhost:8080/"
        },
        "id": "krRMGm001xgt",
        "outputId": "4730ae9a-0069-4b75-98f9-cb12ca26cee9"
      },
      "execution_count": null,
      "outputs": [
        {
          "output_type": "execute_result",
          "data": {
            "text/plain": [
              "<enumerate at 0x7dead2d60900>"
            ]
          },
          "metadata": {},
          "execution_count": 6
        }
      ]
    },
    {
      "cell_type": "code",
      "source": [
        "enu=iter(enumerate(unique_words))"
      ],
      "metadata": {
        "id": "_jXOIlJu2ZUN"
      },
      "execution_count": null,
      "outputs": []
    },
    {
      "cell_type": "code",
      "source": [
        "next(enu)"
      ],
      "metadata": {
        "colab": {
          "base_uri": "https://localhost:8080/"
        },
        "id": "ombQ43g02oRV",
        "outputId": "ec8b7456-d6fe-4e34-c469-abeab681a1d5"
      },
      "execution_count": null,
      "outputs": [
        {
          "output_type": "execute_result",
          "data": {
            "text/plain": [
              "(0, 'working')"
            ]
          },
          "metadata": {},
          "execution_count": 8
        }
      ]
    },
    {
      "cell_type": "code",
      "source": [
        "for i in enumerate(unique_words):\n",
        "  print(i)"
      ],
      "metadata": {
        "colab": {
          "base_uri": "https://localhost:8080/"
        },
        "id": "XBwgpwLk2pYD",
        "outputId": "2cd1b404-3bf5-4dc1-bd76-36405f158475"
      },
      "execution_count": null,
      "outputs": [
        {
          "output_type": "stream",
          "name": "stdout",
          "text": [
            "(0, 'working')\n",
            "(1, 'am')\n",
            "(2, 'euron')\n",
            "(3, 'love')\n",
            "(4, 'ai')\n",
            "(5, 'gen')\n",
            "(6, 'teach')\n",
            "(7, 'i')\n",
            "(8, 'on')\n",
            "(9, 'nlp')\n"
          ]
        }
      ]
    },
    {
      "cell_type": "code",
      "source": [
        "for i, word in enumerate(unique_words):\n",
        "    print(f\"{word}: {i}\")\n"
      ],
      "metadata": {
        "colab": {
          "base_uri": "https://localhost:8080/"
        },
        "id": "AMYwZwDR3FoB",
        "outputId": "b65c8156-d9d3-4b7f-d6d7-bb7f218ea710"
      },
      "execution_count": null,
      "outputs": [
        {
          "output_type": "stream",
          "name": "stdout",
          "text": [
            "working: 0\n",
            "am: 1\n",
            "euron: 2\n",
            "love: 3\n",
            "ai: 4\n",
            "gen: 5\n",
            "teach: 6\n",
            "i: 7\n",
            "on: 8\n",
            "nlp: 9\n"
          ]
        }
      ]
    },
    {
      "cell_type": "code",
      "source": [
        "word_to_index = {word: i for i, word in enumerate(unique_words)}\n"
      ],
      "metadata": {
        "id": "WBGbHe5K3kOr"
      },
      "execution_count": null,
      "outputs": []
    },
    {
      "cell_type": "code",
      "source": [
        "word_to_index"
      ],
      "metadata": {
        "colab": {
          "base_uri": "https://localhost:8080/"
        },
        "id": "jvdoVj-l4S3u",
        "outputId": "24352de4-e913-45d8-d64a-bb031098c88d"
      },
      "execution_count": null,
      "outputs": [
        {
          "output_type": "execute_result",
          "data": {
            "text/plain": [
              "{'working': 0,\n",
              " 'am': 1,\n",
              " 'euron': 2,\n",
              " 'love': 3,\n",
              " 'ai': 4,\n",
              " 'gen': 5,\n",
              " 'teach': 6,\n",
              " 'i': 7,\n",
              " 'on': 8,\n",
              " 'nlp': 9}"
            ]
          },
          "metadata": {},
          "execution_count": 12
        }
      ]
    },
    {
      "cell_type": "code",
      "source": [
        "corpus"
      ],
      "metadata": {
        "colab": {
          "base_uri": "https://localhost:8080/"
        },
        "id": "ece0N0mz4UKi",
        "outputId": "36f6705d-2d64-47cc-a2be-96c6d937a2b3"
      },
      "execution_count": null,
      "outputs": [
        {
          "output_type": "execute_result",
          "data": {
            "text/plain": [
              "['i love nlp', 'i teach gen ai', 'i am working on euron']"
            ]
          },
          "metadata": {},
          "execution_count": 13
        }
      ]
    },
    {
      "cell_type": "code",
      "source": [
        "one_hot_encoder=[]\n",
        "for sentence in corpus:\n",
        "  print(sentence)\n",
        "  sentence_vector=[]"
      ],
      "metadata": {
        "colab": {
          "base_uri": "https://localhost:8080/"
        },
        "id": "YcdM8TNi47Kr",
        "outputId": "e661d745-bdc1-4f4a-d1e7-3f0473fabe32"
      },
      "execution_count": null,
      "outputs": [
        {
          "output_type": "stream",
          "name": "stdout",
          "text": [
            "i love nlp\n",
            "i teach gen ai\n",
            "i am working on euron\n"
          ]
        }
      ]
    },
    {
      "cell_type": "code",
      "source": [
        "one_hot_vecotor = []\n",
        "for sentence in corpus:\n",
        "    print(sentence)\n",
        "    sentence_vector = []\n",
        "    for word in sentence.split():\n",
        "        vector = [0] * len(unique_words)\n",
        "        print(vector)\n",
        "        vector[word_to_index[word]] = 1\n",
        "        print('word to index',word_to_index[word])\n",
        "        print(vector[word_to_index[word]])\n",
        "        print('sentece vector befor appending',sentence_vector)\n",
        "        sentence_vector.append(vector)\n",
        "        print('sentence vector after appending',sentence_vector)\n",
        "\n",
        "    one_hot_vecotor.append(sentence_vector)\n",
        "    print('-----------')\n"
      ],
      "metadata": {
        "colab": {
          "base_uri": "https://localhost:8080/"
        },
        "id": "cHElCbbE4-IC",
        "outputId": "2a86b1dd-adb2-43c7-af82-fa21358e56fc"
      },
      "execution_count": null,
      "outputs": [
        {
          "output_type": "stream",
          "name": "stdout",
          "text": [
            "i love nlp\n",
            "[0, 0, 0, 0, 0, 0, 0, 0, 0, 0]\n",
            "word to index 7\n",
            "1\n",
            "sentece vector befor appending []\n",
            "sentence vector after appending [[0, 0, 0, 0, 0, 0, 0, 1, 0, 0]]\n",
            "[0, 0, 0, 0, 0, 0, 0, 0, 0, 0]\n",
            "word to index 3\n",
            "1\n",
            "sentece vector befor appending [[0, 0, 0, 0, 0, 0, 0, 1, 0, 0]]\n",
            "sentence vector after appending [[0, 0, 0, 0, 0, 0, 0, 1, 0, 0], [0, 0, 0, 1, 0, 0, 0, 0, 0, 0]]\n",
            "[0, 0, 0, 0, 0, 0, 0, 0, 0, 0]\n",
            "word to index 9\n",
            "1\n",
            "sentece vector befor appending [[0, 0, 0, 0, 0, 0, 0, 1, 0, 0], [0, 0, 0, 1, 0, 0, 0, 0, 0, 0]]\n",
            "sentence vector after appending [[0, 0, 0, 0, 0, 0, 0, 1, 0, 0], [0, 0, 0, 1, 0, 0, 0, 0, 0, 0], [0, 0, 0, 0, 0, 0, 0, 0, 0, 1]]\n",
            "-----------\n",
            "i teach gen ai\n",
            "[0, 0, 0, 0, 0, 0, 0, 0, 0, 0]\n",
            "word to index 7\n",
            "1\n",
            "sentece vector befor appending []\n",
            "sentence vector after appending [[0, 0, 0, 0, 0, 0, 0, 1, 0, 0]]\n",
            "[0, 0, 0, 0, 0, 0, 0, 0, 0, 0]\n",
            "word to index 6\n",
            "1\n",
            "sentece vector befor appending [[0, 0, 0, 0, 0, 0, 0, 1, 0, 0]]\n",
            "sentence vector after appending [[0, 0, 0, 0, 0, 0, 0, 1, 0, 0], [0, 0, 0, 0, 0, 0, 1, 0, 0, 0]]\n",
            "[0, 0, 0, 0, 0, 0, 0, 0, 0, 0]\n",
            "word to index 5\n",
            "1\n",
            "sentece vector befor appending [[0, 0, 0, 0, 0, 0, 0, 1, 0, 0], [0, 0, 0, 0, 0, 0, 1, 0, 0, 0]]\n",
            "sentence vector after appending [[0, 0, 0, 0, 0, 0, 0, 1, 0, 0], [0, 0, 0, 0, 0, 0, 1, 0, 0, 0], [0, 0, 0, 0, 0, 1, 0, 0, 0, 0]]\n",
            "[0, 0, 0, 0, 0, 0, 0, 0, 0, 0]\n",
            "word to index 4\n",
            "1\n",
            "sentece vector befor appending [[0, 0, 0, 0, 0, 0, 0, 1, 0, 0], [0, 0, 0, 0, 0, 0, 1, 0, 0, 0], [0, 0, 0, 0, 0, 1, 0, 0, 0, 0]]\n",
            "sentence vector after appending [[0, 0, 0, 0, 0, 0, 0, 1, 0, 0], [0, 0, 0, 0, 0, 0, 1, 0, 0, 0], [0, 0, 0, 0, 0, 1, 0, 0, 0, 0], [0, 0, 0, 0, 1, 0, 0, 0, 0, 0]]\n",
            "-----------\n",
            "i am working on euron\n",
            "[0, 0, 0, 0, 0, 0, 0, 0, 0, 0]\n",
            "word to index 7\n",
            "1\n",
            "sentece vector befor appending []\n",
            "sentence vector after appending [[0, 0, 0, 0, 0, 0, 0, 1, 0, 0]]\n",
            "[0, 0, 0, 0, 0, 0, 0, 0, 0, 0]\n",
            "word to index 1\n",
            "1\n",
            "sentece vector befor appending [[0, 0, 0, 0, 0, 0, 0, 1, 0, 0]]\n",
            "sentence vector after appending [[0, 0, 0, 0, 0, 0, 0, 1, 0, 0], [0, 1, 0, 0, 0, 0, 0, 0, 0, 0]]\n",
            "[0, 0, 0, 0, 0, 0, 0, 0, 0, 0]\n",
            "word to index 0\n",
            "1\n",
            "sentece vector befor appending [[0, 0, 0, 0, 0, 0, 0, 1, 0, 0], [0, 1, 0, 0, 0, 0, 0, 0, 0, 0]]\n",
            "sentence vector after appending [[0, 0, 0, 0, 0, 0, 0, 1, 0, 0], [0, 1, 0, 0, 0, 0, 0, 0, 0, 0], [1, 0, 0, 0, 0, 0, 0, 0, 0, 0]]\n",
            "[0, 0, 0, 0, 0, 0, 0, 0, 0, 0]\n",
            "word to index 8\n",
            "1\n",
            "sentece vector befor appending [[0, 0, 0, 0, 0, 0, 0, 1, 0, 0], [0, 1, 0, 0, 0, 0, 0, 0, 0, 0], [1, 0, 0, 0, 0, 0, 0, 0, 0, 0]]\n",
            "sentence vector after appending [[0, 0, 0, 0, 0, 0, 0, 1, 0, 0], [0, 1, 0, 0, 0, 0, 0, 0, 0, 0], [1, 0, 0, 0, 0, 0, 0, 0, 0, 0], [0, 0, 0, 0, 0, 0, 0, 0, 1, 0]]\n",
            "[0, 0, 0, 0, 0, 0, 0, 0, 0, 0]\n",
            "word to index 2\n",
            "1\n",
            "sentece vector befor appending [[0, 0, 0, 0, 0, 0, 0, 1, 0, 0], [0, 1, 0, 0, 0, 0, 0, 0, 0, 0], [1, 0, 0, 0, 0, 0, 0, 0, 0, 0], [0, 0, 0, 0, 0, 0, 0, 0, 1, 0]]\n",
            "sentence vector after appending [[0, 0, 0, 0, 0, 0, 0, 1, 0, 0], [0, 1, 0, 0, 0, 0, 0, 0, 0, 0], [1, 0, 0, 0, 0, 0, 0, 0, 0, 0], [0, 0, 0, 0, 0, 0, 0, 0, 1, 0], [0, 0, 1, 0, 0, 0, 0, 0, 0, 0]]\n",
            "-----------\n"
          ]
        }
      ]
    },
    {
      "cell_type": "code",
      "source": [
        "one_hot_vecotor"
      ],
      "metadata": {
        "colab": {
          "base_uri": "https://localhost:8080/"
        },
        "id": "33vlI2-k7KyY",
        "outputId": "5b95bf69-bda7-405b-8e94-bee0cc25956c"
      },
      "execution_count": null,
      "outputs": [
        {
          "output_type": "execute_result",
          "data": {
            "text/plain": [
              "[[[0, 0, 0, 0, 0, 0, 0, 1, 0, 0],\n",
              "  [0, 0, 0, 1, 0, 0, 0, 0, 0, 0],\n",
              "  [0, 0, 0, 0, 0, 0, 0, 0, 0, 1]],\n",
              " [[0, 0, 0, 0, 0, 0, 0, 1, 0, 0],\n",
              "  [0, 0, 0, 0, 0, 0, 1, 0, 0, 0],\n",
              "  [0, 0, 0, 0, 0, 1, 0, 0, 0, 0],\n",
              "  [0, 0, 0, 0, 1, 0, 0, 0, 0, 0]],\n",
              " [[0, 0, 0, 0, 0, 0, 0, 1, 0, 0],\n",
              "  [0, 1, 0, 0, 0, 0, 0, 0, 0, 0],\n",
              "  [1, 0, 0, 0, 0, 0, 0, 0, 0, 0],\n",
              "  [0, 0, 0, 0, 0, 0, 0, 0, 1, 0],\n",
              "  [0, 0, 1, 0, 0, 0, 0, 0, 0, 0]]]"
            ]
          },
          "metadata": {},
          "execution_count": 16
        }
      ]
    },
    {
      "cell_type": "markdown",
      "source": [
        "##Bag of Words (BOW)"
      ],
      "metadata": {
        "id": "LhiUEFdfMA2W"
      }
    },
    {
      "cell_type": "code",
      "source": [
        " corpus=['i love nlp','i teach gen ai','i am working with euron']"
      ],
      "metadata": {
        "id": "NWM2ezDW7wU7"
      },
      "execution_count": null,
      "outputs": []
    },
    {
      "cell_type": "code",
      "source": [
        "from sklearn.feature_extraction.text import CountVectorizer"
      ],
      "metadata": {
        "id": "zwFaPMZlNR5t"
      },
      "execution_count": null,
      "outputs": []
    },
    {
      "cell_type": "code",
      "source": [
        "vectorizer=CountVectorizer()"
      ],
      "metadata": {
        "id": "RIqbEB69NeUX"
      },
      "execution_count": null,
      "outputs": []
    },
    {
      "cell_type": "code",
      "source": [
        "X=vectorizer.fit_transform(corpus)"
      ],
      "metadata": {
        "id": "Lkm_WFABNgzO"
      },
      "execution_count": null,
      "outputs": []
    },
    {
      "cell_type": "code",
      "source": [
        "X.toarray()"
      ],
      "metadata": {
        "colab": {
          "base_uri": "https://localhost:8080/"
        },
        "id": "I0_MVAjONici",
        "outputId": "7e2bc54e-1ccf-4f56-9217-bec92fc5520a"
      },
      "execution_count": null,
      "outputs": [
        {
          "output_type": "execute_result",
          "data": {
            "text/plain": [
              "array([[0, 0, 0, 0, 1, 1, 0, 0, 0],\n",
              "       [1, 0, 0, 1, 0, 0, 1, 0, 0],\n",
              "       [0, 1, 1, 0, 0, 0, 0, 1, 1]])"
            ]
          },
          "metadata": {},
          "execution_count": 21
        }
      ]
    },
    {
      "cell_type": "markdown",
      "source": [
        "## TF-IDF"
      ],
      "metadata": {
        "id": "B_RpmGUgmaIU"
      }
    },
    {
      "cell_type": "code",
      "source": [
        "corpus=['i love nlp','i teach gen ai','i am working with euron']"
      ],
      "metadata": {
        "id": "b5FiuFXGNzXD"
      },
      "execution_count": null,
      "outputs": []
    },
    {
      "cell_type": "code",
      "source": [
        "from sklearn.feature_extraction.text import TfidfVectorizer"
      ],
      "metadata": {
        "id": "KDx-QUFLmguJ"
      },
      "execution_count": null,
      "outputs": []
    },
    {
      "cell_type": "code",
      "source": [
        "vector_tf_idf= TfidfVectorizer()"
      ],
      "metadata": {
        "id": "AWcsEan1mr_e"
      },
      "execution_count": null,
      "outputs": []
    },
    {
      "cell_type": "code",
      "source": [
        "X= vector_tf_idf.fit_transform(corpus)"
      ],
      "metadata": {
        "id": "gAEB1YEVmx9k"
      },
      "execution_count": null,
      "outputs": []
    },
    {
      "cell_type": "code",
      "source": [
        "X.toarray()"
      ],
      "metadata": {
        "colab": {
          "base_uri": "https://localhost:8080/"
        },
        "id": "xhgtmO2hm6M5",
        "outputId": "64ce7e18-4896-4613-934f-2385b3906b43"
      },
      "execution_count": null,
      "outputs": [
        {
          "output_type": "execute_result",
          "data": {
            "text/plain": [
              "array([[0.        , 0.        , 0.        , 0.        , 0.70710678,\n",
              "        0.70710678, 0.        , 0.        , 0.        ],\n",
              "       [0.57735027, 0.        , 0.        , 0.57735027, 0.        ,\n",
              "        0.        , 0.57735027, 0.        , 0.        ],\n",
              "       [0.        , 0.5       , 0.5       , 0.        , 0.        ,\n",
              "        0.        , 0.        , 0.5       , 0.5       ]])"
            ]
          },
          "metadata": {},
          "execution_count": 26
        }
      ]
    },
    {
      "cell_type": "code",
      "source": [
        "corpus"
      ],
      "metadata": {
        "colab": {
          "base_uri": "https://localhost:8080/"
        },
        "id": "H3lnTXM-nDsS",
        "outputId": "ff490e72-639c-4cf4-aef2-9660df7a7ef6"
      },
      "execution_count": null,
      "outputs": [
        {
          "output_type": "execute_result",
          "data": {
            "text/plain": [
              "['i love nlp', 'i teach gen ai', 'i am working with euron']"
            ]
          },
          "metadata": {},
          "execution_count": 27
        }
      ]
    },
    {
      "cell_type": "code",
      "source": [
        "len(list(set(\" \".join(corpus).split())))"
      ],
      "metadata": {
        "colab": {
          "base_uri": "https://localhost:8080/"
        },
        "id": "MEQQ9F1MoQaD",
        "outputId": "cc5bd6e3-3e09-4a49-d20d-1546f7ea8021"
      },
      "execution_count": null,
      "outputs": [
        {
          "output_type": "execute_result",
          "data": {
            "text/plain": [
              "10"
            ]
          },
          "metadata": {},
          "execution_count": 28
        }
      ]
    },
    {
      "cell_type": "code",
      "source": [
        "corpus_new=['pappu nach nahi sakta','pappu loves dancing', 'pappu stops dancing']"
      ],
      "metadata": {
        "id": "LQKVQmH8odyo"
      },
      "execution_count": null,
      "outputs": []
    },
    {
      "cell_type": "code",
      "source": [
        "from sklearn.feature_extraction.text import TfidfVectorizer"
      ],
      "metadata": {
        "id": "IFY4pdV-xprf"
      },
      "execution_count": null,
      "outputs": []
    },
    {
      "cell_type": "code",
      "source": [
        "vector_tf_idf= TfidfVectorizer()"
      ],
      "metadata": {
        "id": "8lH0VbS9xvuw"
      },
      "execution_count": null,
      "outputs": []
    },
    {
      "cell_type": "code",
      "source": [
        "X=vector_tf_idf.fit_transform(corpus_new)\n"
      ],
      "metadata": {
        "id": "Ld77ovtmx2Ie"
      },
      "execution_count": null,
      "outputs": []
    },
    {
      "cell_type": "code",
      "source": [
        "X.toarray()"
      ],
      "metadata": {
        "colab": {
          "base_uri": "https://localhost:8080/"
        },
        "id": "B2rQ0di7x7CH",
        "outputId": "920c1b9c-3ab6-4dcd-889f-d503137cc6bb"
      },
      "execution_count": null,
      "outputs": [
        {
          "output_type": "execute_result",
          "data": {
            "text/plain": [
              "array([[0.        , 0.        , 0.54645401, 0.54645401, 0.32274454,\n",
              "        0.54645401, 0.        ],\n",
              "       [0.54783215, 0.72033345, 0.        , 0.        , 0.42544054,\n",
              "        0.        , 0.        ],\n",
              "       [0.54783215, 0.        , 0.        , 0.        , 0.42544054,\n",
              "        0.        , 0.72033345]])"
            ]
          },
          "metadata": {},
          "execution_count": 33
        }
      ]
    },
    {
      "cell_type": "code",
      "source": [
        "from sklearn.feature_extraction.text import CountVectorizer"
      ],
      "metadata": {
        "id": "X6oYes6ex9bi"
      },
      "execution_count": null,
      "outputs": []
    },
    {
      "cell_type": "code",
      "source": [
        "vectorizer= CountVectorizer()"
      ],
      "metadata": {
        "id": "NBmOgVVjyXhG"
      },
      "execution_count": null,
      "outputs": []
    },
    {
      "cell_type": "code",
      "source": [
        "x= vectorizer.fit_transform(corpus_new)"
      ],
      "metadata": {
        "id": "vcqUyDvqyZpP"
      },
      "execution_count": null,
      "outputs": []
    },
    {
      "cell_type": "code",
      "source": [
        "x.toarray()"
      ],
      "metadata": {
        "colab": {
          "base_uri": "https://localhost:8080/"
        },
        "id": "Zkj_wJzsyfE8",
        "outputId": "1b921d50-b67d-4110-90fe-9a19739cc934"
      },
      "execution_count": null,
      "outputs": [
        {
          "output_type": "execute_result",
          "data": {
            "text/plain": [
              "array([[0, 0, 1, 1, 1, 1, 0],\n",
              "       [1, 1, 0, 0, 1, 0, 0],\n",
              "       [1, 0, 0, 0, 1, 0, 1]])"
            ]
          },
          "metadata": {},
          "execution_count": 37
        }
      ]
    },
    {
      "cell_type": "markdown",
      "source": [
        "## Word2Vec"
      ],
      "metadata": {
        "id": "Bv47luac_nV6"
      }
    },
    {
      "cell_type": "code",
      "source": [
        "!pip install gensim"
      ],
      "metadata": {
        "colab": {
          "base_uri": "https://localhost:8080/"
        },
        "id": "URbtt2rDAPMg",
        "outputId": "4ec4db4c-a790-4cb3-b02b-8b192af478bc"
      },
      "execution_count": null,
      "outputs": [
        {
          "output_type": "stream",
          "name": "stdout",
          "text": [
            "Collecting gensim\n",
            "  Downloading gensim-4.4.0-cp312-cp312-manylinux_2_24_x86_64.manylinux_2_28_x86_64.whl.metadata (8.4 kB)\n",
            "Requirement already satisfied: numpy>=1.18.5 in /usr/local/lib/python3.12/dist-packages (from gensim) (2.0.2)\n",
            "Requirement already satisfied: scipy>=1.7.0 in /usr/local/lib/python3.12/dist-packages (from gensim) (1.16.2)\n",
            "Requirement already satisfied: smart_open>=1.8.1 in /usr/local/lib/python3.12/dist-packages (from gensim) (7.4.1)\n",
            "Requirement already satisfied: wrapt in /usr/local/lib/python3.12/dist-packages (from smart_open>=1.8.1->gensim) (2.0.0)\n",
            "Downloading gensim-4.4.0-cp312-cp312-manylinux_2_24_x86_64.manylinux_2_28_x86_64.whl (27.9 MB)\n",
            "\u001b[2K   \u001b[90m━━━━━━━━━━━━━━━━━━━━━━━━━━━━━━━━━━━━━━━━\u001b[0m \u001b[32m27.9/27.9 MB\u001b[0m \u001b[31m21.6 MB/s\u001b[0m eta \u001b[36m0:00:00\u001b[0m\n",
            "\u001b[?25hInstalling collected packages: gensim\n",
            "Successfully installed gensim-4.4.0\n"
          ]
        }
      ]
    },
    {
      "cell_type": "code",
      "source": [
        "import nltk\n",
        "import string\n",
        "import matplotlib.pyplot as plt\n",
        "from gensim.models import Word2Vec\n",
        "from nltk.tokenize import word_tokenize\n",
        "from nltk.corpus import stopwords\n",
        "import numpy as np\n",
        "import re"
      ],
      "metadata": {
        "id": "SqjZwwwiywVE"
      },
      "execution_count": null,
      "outputs": []
    },
    {
      "cell_type": "code",
      "source": [
        "nltk.download('punkt')\n",
        "nltk.download('stopwords')"
      ],
      "metadata": {
        "colab": {
          "base_uri": "https://localhost:8080/"
        },
        "id": "22l23aFvygGE",
        "outputId": "b0f37bfb-08eb-4b75-9845-b23500eaa30d"
      },
      "execution_count": null,
      "outputs": [
        {
          "output_type": "stream",
          "name": "stderr",
          "text": [
            "[nltk_data] Downloading package punkt to /root/nltk_data...\n",
            "[nltk_data]   Unzipping tokenizers/punkt.zip.\n",
            "[nltk_data] Downloading package stopwords to /root/nltk_data...\n",
            "[nltk_data]   Unzipping corpora/stopwords.zip.\n"
          ]
        },
        {
          "output_type": "execute_result",
          "data": {
            "text/plain": [
              "True"
            ]
          },
          "metadata": {},
          "execution_count": 40
        }
      ]
    },
    {
      "cell_type": "code",
      "source": [
        "corpus=[\n",
        "    'my name is Sudhanshu kumar',\n",
        "    'i use to Teach all data stack along with ops and cloud!',\n",
        "    'fadll dlkjfkl #@*234 lkjdf #34533',\n",
        "    'nlp is very Amazing',\n",
        "    'We are trying to learn word2vec',\n",
        "    'we will try to build two models for word2vec - cbow and skipgram',\n",
        "    'we will also working on cleaning the data which is going to have some noisy data. it\"s basically part of pre-processing',\n",
        "    'nlp is a part of AI',\n",
        "    'word2vec is better than one hot encoding, tf-idf,bags of words'\n",
        "\n",
        "]"
      ],
      "metadata": {
        "id": "ZTbcyAFSBp9V"
      },
      "execution_count": null,
      "outputs": []
    },
    {
      "cell_type": "code",
      "source": [
        "cleaned_corpus = [re.sub(r'\\d+', '', sentence.lower()) for sentence in corpus]\n"
      ],
      "metadata": {
        "id": "X7mda_keCb7y"
      },
      "execution_count": null,
      "outputs": []
    },
    {
      "cell_type": "code",
      "source": [
        "cleaned_corpus"
      ],
      "metadata": {
        "colab": {
          "base_uri": "https://localhost:8080/"
        },
        "id": "jh6tg3ixEuTf",
        "outputId": "8c2a29df-7357-4c5f-b66d-f6c780b32b9f"
      },
      "execution_count": null,
      "outputs": [
        {
          "output_type": "execute_result",
          "data": {
            "text/plain": [
              "['my name is sudhanshu kumar',\n",
              " 'i use to teach all data stack along with ops and cloud!',\n",
              " 'fadll dlkjfkl #@* lkjdf #',\n",
              " 'nlp is very amazing',\n",
              " 'we are trying to learn wordvec',\n",
              " 'we will try to build two models for wordvec - cbow and skipgram',\n",
              " 'we will also working on cleaning the data which is going to have some noisy data. it\"s basically part of pre-processing',\n",
              " 'nlp is a part of ai',\n",
              " 'wordvec is better than one hot encoding, tf-idf,bags of words']"
            ]
          },
          "metadata": {},
          "execution_count": 43
        }
      ]
    },
    {
      "cell_type": "code",
      "source": [
        "cleaned_corpus = [''.join(ch for ch in sentence if ch not in string.punctuation) for sentence in cleaned_corpus]\n"
      ],
      "metadata": {
        "id": "XUF0pzC3F3Am"
      },
      "execution_count": null,
      "outputs": []
    },
    {
      "cell_type": "code",
      "source": [
        "cleaned_corpus\n",
        "\n"
      ],
      "metadata": {
        "colab": {
          "base_uri": "https://localhost:8080/"
        },
        "id": "YndzKsjHGdIF",
        "outputId": "f929d0bc-767e-411d-e8b1-67f01cebea89"
      },
      "execution_count": null,
      "outputs": [
        {
          "output_type": "execute_result",
          "data": {
            "text/plain": [
              "['my name is sudhanshu kumar',\n",
              " 'i use to teach all data stack along with ops and cloud',\n",
              " 'fadll dlkjfkl  lkjdf ',\n",
              " 'nlp is very amazing',\n",
              " 'we are trying to learn wordvec',\n",
              " 'we will try to build two models for wordvec  cbow and skipgram',\n",
              " 'we will also working on cleaning the data which is going to have some noisy data its basically part of preprocessing',\n",
              " 'nlp is a part of ai',\n",
              " 'wordvec is better than one hot encoding tfidfbags of words']"
            ]
          },
          "metadata": {},
          "execution_count": 45
        }
      ]
    },
    {
      "cell_type": "code",
      "source": [
        "filtered_corpus = [\n",
        "    ' '.join([word for word in sentence.split() if word not in stopwords.words('english')])\n",
        "    for sentence in cleaned_corpus\n",
        "]\n",
        "\n",
        "print(filtered_corpus)"
      ],
      "metadata": {
        "colab": {
          "base_uri": "https://localhost:8080/"
        },
        "id": "OSikZq6SGfAa",
        "outputId": "42d53f35-bccd-4621-c693-bcf742df6736"
      },
      "execution_count": null,
      "outputs": [
        {
          "output_type": "stream",
          "name": "stdout",
          "text": [
            "['name sudhanshu kumar', 'use teach data stack along ops cloud', 'fadll dlkjfkl lkjdf', 'nlp amazing', 'trying learn wordvec', 'try build two models wordvec cbow skipgram', 'also working cleaning data going noisy data basically part preprocessing', 'nlp part ai', 'wordvec better one hot encoding tfidfbags words']\n"
          ]
        }
      ]
    },
    {
      "cell_type": "code",
      "source": [
        "filtered_corpus"
      ],
      "metadata": {
        "colab": {
          "base_uri": "https://localhost:8080/"
        },
        "id": "uGi9sJFHGo0L",
        "outputId": "182516c8-24bd-4185-ed6f-7a66cdb452b3"
      },
      "execution_count": null,
      "outputs": [
        {
          "output_type": "execute_result",
          "data": {
            "text/plain": [
              "['name sudhanshu kumar',\n",
              " 'use teach data stack along ops cloud',\n",
              " 'fadll dlkjfkl lkjdf',\n",
              " 'nlp amazing',\n",
              " 'trying learn wordvec',\n",
              " 'try build two models wordvec cbow skipgram',\n",
              " 'also working cleaning data going noisy data basically part preprocessing',\n",
              " 'nlp part ai',\n",
              " 'wordvec better one hot encoding tfidfbags words']"
            ]
          },
          "metadata": {},
          "execution_count": 47
        }
      ]
    },
    {
      "cell_type": "code",
      "source": [
        "tokenized_corpus = [sentence.split() for sentence in filtered_corpus]\n",
        "tokenized_corpus\n"
      ],
      "metadata": {
        "colab": {
          "base_uri": "https://localhost:8080/"
        },
        "id": "UvIB95oKJpzX",
        "outputId": "bf3ac877-e3d5-432f-dcd2-370c83aa660a"
      },
      "execution_count": null,
      "outputs": [
        {
          "output_type": "execute_result",
          "data": {
            "text/plain": [
              "[['name', 'sudhanshu', 'kumar'],\n",
              " ['use', 'teach', 'data', 'stack', 'along', 'ops', 'cloud'],\n",
              " ['fadll', 'dlkjfkl', 'lkjdf'],\n",
              " ['nlp', 'amazing'],\n",
              " ['trying', 'learn', 'wordvec'],\n",
              " ['try', 'build', 'two', 'models', 'wordvec', 'cbow', 'skipgram'],\n",
              " ['also',\n",
              "  'working',\n",
              "  'cleaning',\n",
              "  'data',\n",
              "  'going',\n",
              "  'noisy',\n",
              "  'data',\n",
              "  'basically',\n",
              "  'part',\n",
              "  'preprocessing'],\n",
              " ['nlp', 'part', 'ai'],\n",
              " ['wordvec', 'better', 'one', 'hot', 'encoding', 'tfidfbags', 'words']]"
            ]
          },
          "metadata": {},
          "execution_count": 48
        }
      ]
    },
    {
      "cell_type": "markdown",
      "source": [],
      "metadata": {
        "id": "ZL_pD-11RgWp"
      }
    },
    {
      "cell_type": "code",
      "source": [
        "word2vec_cbow=Word2Vec(sentences=tokenized_corpus,vector_size=100,window=5,min_count=1,sg=0)"
      ],
      "metadata": {
        "id": "886_it6_J94b"
      },
      "execution_count": null,
      "outputs": []
    },
    {
      "cell_type": "code",
      "source": [
        "word2vec_skipgram=Word2Vec(sentences=tokenized_corpus,vector_size=100,window=5,min_count=1,sg=1)"
      ],
      "metadata": {
        "id": "VmLmsC5UKoGX"
      },
      "execution_count": null,
      "outputs": []
    },
    {
      "cell_type": "code",
      "source": [
        "word2vec_cbow"
      ],
      "metadata": {
        "id": "5HQpy2KfRsaV",
        "colab": {
          "base_uri": "https://localhost:8080/"
        },
        "outputId": "d1180df9-5431-4a9d-8b28-b4dbdef22bbc"
      },
      "execution_count": null,
      "outputs": [
        {
          "output_type": "execute_result",
          "data": {
            "text/plain": [
              "<gensim.models.word2vec.Word2Vec at 0x7dead2d8a0f0>"
            ]
          },
          "metadata": {},
          "execution_count": 51
        }
      ]
    },
    {
      "cell_type": "code",
      "source": [
        "word2vec_skipgram.wv.most_similar(['sudhanshu'],topn=3)"
      ],
      "metadata": {
        "colab": {
          "base_uri": "https://localhost:8080/"
        },
        "id": "yJM96HjN7lVI",
        "outputId": "f4521f8c-9fe1-4243-b159-71c17a72b2f6"
      },
      "execution_count": null,
      "outputs": [
        {
          "output_type": "execute_result",
          "data": {
            "text/plain": [
              "[('encoding', 0.3489443063735962),\n",
              " ('basically', 0.24768778681755066),\n",
              " ('hot', 0.2038525640964508)]"
            ]
          },
          "metadata": {},
          "execution_count": 56
        }
      ]
    },
    {
      "cell_type": "code",
      "source": [
        "word2vec_cbow.wv.most_similar(['sudhanshu'],topn=3)"
      ],
      "metadata": {
        "colab": {
          "base_uri": "https://localhost:8080/"
        },
        "id": "uN1jZ3tt7nnv",
        "outputId": "16b56f06-6b6b-42ef-83ce-fba5c6cc8a31"
      },
      "execution_count": null,
      "outputs": [
        {
          "output_type": "execute_result",
          "data": {
            "text/plain": [
              "[('encoding', 0.3488069772720337),\n",
              " ('basically', 0.24770984053611755),\n",
              " ('hot', 0.2039506733417511)]"
            ]
          },
          "metadata": {},
          "execution_count": 57
        }
      ]
    },
    {
      "cell_type": "code",
      "source": [
        "word2vec_cbow.wv.index_to_key"
      ],
      "metadata": {
        "colab": {
          "base_uri": "https://localhost:8080/"
        },
        "id": "bb0nLMQv-37a",
        "outputId": "cacf5226-2170-4ceb-d6be-86f1ff5ef58a"
      },
      "execution_count": null,
      "outputs": [
        {
          "output_type": "execute_result",
          "data": {
            "text/plain": [
              "['wordvec',\n",
              " 'data',\n",
              " 'part',\n",
              " 'nlp',\n",
              " 'words',\n",
              " 'tfidfbags',\n",
              " 'encoding',\n",
              " 'hot',\n",
              " 'one',\n",
              " 'better',\n",
              " 'ai',\n",
              " 'preprocessing',\n",
              " 'basically',\n",
              " 'noisy',\n",
              " 'going',\n",
              " 'cleaning',\n",
              " 'working',\n",
              " 'also',\n",
              " 'skipgram',\n",
              " 'cbow',\n",
              " 'models',\n",
              " 'two',\n",
              " 'build',\n",
              " 'try',\n",
              " 'learn',\n",
              " 'trying',\n",
              " 'amazing',\n",
              " 'lkjdf',\n",
              " 'dlkjfkl',\n",
              " 'fadll',\n",
              " 'cloud',\n",
              " 'ops',\n",
              " 'along',\n",
              " 'stack',\n",
              " 'teach',\n",
              " 'use',\n",
              " 'kumar',\n",
              " 'sudhanshu',\n",
              " 'name']"
            ]
          },
          "metadata": {},
          "execution_count": 58
        }
      ]
    },
    {
      "cell_type": "code",
      "source": [
        "from sklearn.manifold import TSNE\n",
        "import numpy as np\n",
        "import matplotlib.pyplot as plt\n"
      ],
      "metadata": {
        "id": "yEW0tKmH_QCp"
      },
      "execution_count": 59,
      "outputs": []
    },
    {
      "cell_type": "code",
      "source": [
        "word_vectors=word2vec_cbow.wv"
      ],
      "metadata": {
        "id": "q6Rr0awcPd9A"
      },
      "execution_count": 60,
      "outputs": []
    },
    {
      "cell_type": "code",
      "source": [
        "vocab=list(word_vectors.index_to_key)"
      ],
      "metadata": {
        "id": "TRtdMDhAPjcH"
      },
      "execution_count": 63,
      "outputs": []
    },
    {
      "cell_type": "code",
      "source": [
        "vocab"
      ],
      "metadata": {
        "colab": {
          "base_uri": "https://localhost:8080/"
        },
        "id": "cqP1GkopPofC",
        "outputId": "53e7d848-4bdc-4049-c0f3-ed4f2d6bbea9"
      },
      "execution_count": 64,
      "outputs": [
        {
          "output_type": "execute_result",
          "data": {
            "text/plain": [
              "['wordvec',\n",
              " 'data',\n",
              " 'part',\n",
              " 'nlp',\n",
              " 'words',\n",
              " 'tfidfbags',\n",
              " 'encoding',\n",
              " 'hot',\n",
              " 'one',\n",
              " 'better',\n",
              " 'ai',\n",
              " 'preprocessing',\n",
              " 'basically',\n",
              " 'noisy',\n",
              " 'going',\n",
              " 'cleaning',\n",
              " 'working',\n",
              " 'also',\n",
              " 'skipgram',\n",
              " 'cbow',\n",
              " 'models',\n",
              " 'two',\n",
              " 'build',\n",
              " 'try',\n",
              " 'learn',\n",
              " 'trying',\n",
              " 'amazing',\n",
              " 'lkjdf',\n",
              " 'dlkjfkl',\n",
              " 'fadll',\n",
              " 'cloud',\n",
              " 'ops',\n",
              " 'along',\n",
              " 'stack',\n",
              " 'teach',\n",
              " 'use',\n",
              " 'kumar',\n",
              " 'sudhanshu',\n",
              " 'name']"
            ]
          },
          "metadata": {},
          "execution_count": 64
        }
      ]
    },
    {
      "cell_type": "code",
      "source": [
        "len(vocab)"
      ],
      "metadata": {
        "colab": {
          "base_uri": "https://localhost:8080/"
        },
        "id": "dKcqf6x1Po9N",
        "outputId": "f6e58ef8-bab0-431c-9f1c-112beb59b96e"
      },
      "execution_count": 65,
      "outputs": [
        {
          "output_type": "execute_result",
          "data": {
            "text/plain": [
              "39"
            ]
          },
          "metadata": {},
          "execution_count": 65
        }
      ]
    },
    {
      "cell_type": "code",
      "source": [
        "x=np.array([word_vectors[i] for i in vocab])"
      ],
      "metadata": {
        "id": "pw5HCpFNP29V"
      },
      "execution_count": 70,
      "outputs": []
    },
    {
      "cell_type": "code",
      "source": [
        "len(x)"
      ],
      "metadata": {
        "colab": {
          "base_uri": "https://localhost:8080/"
        },
        "id": "h2gtrCq1QDEK",
        "outputId": "d76f8243-e814-425a-c927-f887bce2cda4"
      },
      "execution_count": 71,
      "outputs": [
        {
          "output_type": "execute_result",
          "data": {
            "text/plain": [
              "39"
            ]
          },
          "metadata": {},
          "execution_count": 71
        }
      ]
    },
    {
      "cell_type": "code",
      "source": [
        "tsne=TSNE(n_components=2,)"
      ],
      "metadata": {
        "id": "ryrw69J6WYgW"
      },
      "execution_count": 75,
      "outputs": []
    },
    {
      "cell_type": "code",
      "source": [
        "x_new_embeddings=tsne.fit_transform(x)"
      ],
      "metadata": {
        "id": "l0oaNc_PWhX7"
      },
      "execution_count": 77,
      "outputs": []
    },
    {
      "cell_type": "code",
      "source": [
        "x_new_embeddings"
      ],
      "metadata": {
        "colab": {
          "base_uri": "https://localhost:8080/"
        },
        "id": "hWNs7ZNxWn5A",
        "outputId": "dffe6863-753b-4165-ab5a-8cda6bb37b1a"
      },
      "execution_count": 78,
      "outputs": [
        {
          "output_type": "execute_result",
          "data": {
            "text/plain": [
              "array([[ 1.8616031, -1.5353181],\n",
              "       [ 2.406081 , -2.8987546],\n",
              "       [ 2.2999382, -2.0504336],\n",
              "       [ 2.9301963, -2.3120563],\n",
              "       [ 1.4580364, -2.5892956],\n",
              "       [ 3.1135468, -1.768846 ],\n",
              "       [ 1.4746706, -2.0237265],\n",
              "       [ 1.9684187, -2.124652 ],\n",
              "       [ 2.7502604, -1.8016335],\n",
              "       [ 1.8474368, -1.4726406],\n",
              "       [ 2.1316433, -1.5513434],\n",
              "       [ 2.34574  , -2.0025778],\n",
              "       [ 1.5288469, -2.1309862],\n",
              "       [ 1.4881133, -2.91201  ],\n",
              "       [ 2.8001251, -2.640306 ],\n",
              "       [ 2.3793604, -3.281406 ],\n",
              "       [ 1.273306 , -1.5723372],\n",
              "       [ 2.8226392, -2.5873547],\n",
              "       [ 2.2287557, -2.3075025],\n",
              "       [ 1.9432517, -2.0542674],\n",
              "       [ 2.407989 , -2.0264146],\n",
              "       [ 1.5288553, -2.5566611],\n",
              "       [ 2.1934185, -2.9925394],\n",
              "       [ 1.8679618, -3.0665188],\n",
              "       [ 2.4019256, -1.1599644],\n",
              "       [ 1.2945656, -2.4715862],\n",
              "       [ 1.4349254, -2.3121414],\n",
              "       [ 2.78339  , -1.9016604],\n",
              "       [ 1.2304428, -1.7841979],\n",
              "       [ 2.1121743, -2.6678212],\n",
              "       [ 2.5230255, -2.1511161],\n",
              "       [ 1.9799232, -3.1151974],\n",
              "       [ 1.7980802, -1.5208682],\n",
              "       [ 1.4524521, -1.4080973],\n",
              "       [ 2.1953878, -1.7686088],\n",
              "       [ 1.9157075, -1.4786973],\n",
              "       [ 2.8182745, -2.125676 ],\n",
              "       [ 1.6129174, -2.0511253],\n",
              "       [ 1.5507425, -2.5917547]], dtype=float32)"
            ]
          },
          "metadata": {},
          "execution_count": 78
        }
      ]
    },
    {
      "cell_type": "code",
      "source": [
        "plt.figure(figsize=(12,6))\n",
        "plt.scatter(x_new_embeddings[:,0],x_new_embeddings[:,1],marker='o')\n"
      ],
      "metadata": {
        "colab": {
          "base_uri": "https://localhost:8080/",
          "height": 539
        },
        "id": "9KQYHjBNWwvf",
        "outputId": "43434fe7-a8f5-4ab9-89c0-543f4caa2f1b"
      },
      "execution_count": 79,
      "outputs": [
        {
          "output_type": "execute_result",
          "data": {
            "text/plain": [
              "<matplotlib.collections.PathCollection at 0x7deab1f63aa0>"
            ]
          },
          "metadata": {},
          "execution_count": 79
        },
        {
          "output_type": "display_data",
          "data": {
            "text/plain": [
              "<Figure size 1200x600 with 1 Axes>"
            ],
            "image/png": "[encoded data removed]"
          },
          "metadata": {}
        }
      ]
    },
    {
      "cell_type": "code",
      "source": [
        "plt.figure(figsize=(12,6))\n",
        "plt.scatter(x_new_embeddings[:,0],x_new_embeddings[:,1],marker='o')\n",
        "for i, words in enumerate(vocab[:len(x_new_embeddings)]):\n",
        "  plt.annotate(words,xy=(x_new_embeddings[i,0],x_new_embeddings[i,1]))"
      ],
      "metadata": {
        "colab": {
          "base_uri": "https://localhost:8080/",
          "height": 522
        },
        "id": "dArNRIKrW-9s",
        "outputId": "12cc6d9b-379c-49cd-f997-06b33ad011c0"
      },
      "execution_count": 81,
      "outputs": [
        {
          "output_type": "display_data",
          "data": {
            "text/plain": [
              "<Figure size 1200x600 with 1 Axes>"
            ],
            "image/png": "[encoded data removed]"
          },
          "metadata": {}
        }
      ]
    },
    {
      "cell_type": "markdown",
      "source": [
        "## NER - Named Entity RelationShip"
      ],
      "metadata": {
        "id": "yeCzqwgra1Bi"
      }
    },
    {
      "cell_type": "code",
      "source": [
        "text= 'my name is sudhanshu kr, i am working with euronai. '"
      ],
      "metadata": {
        "id": "ieEwpedqXxNF"
      },
      "execution_count": 124,
      "outputs": []
    },
    {
      "cell_type": "code",
      "source": [
        "import nltk\n",
        "nltk.download('punkt_tab')\n",
        "word_tokenize(text)"
      ],
      "metadata": {
        "colab": {
          "base_uri": "https://localhost:8080/"
        },
        "id": "lbveOf0qbDEE",
        "outputId": "04c7e66c-f1ff-4929-efaa-8025206bbdda"
      },
      "execution_count": 125,
      "outputs": [
        {
          "output_type": "stream",
          "name": "stderr",
          "text": [
            "[nltk_data] Downloading package punkt_tab to /root/nltk_data...\n",
            "[nltk_data]   Package punkt_tab is already up-to-date!\n"
          ]
        },
        {
          "output_type": "execute_result",
          "data": {
            "text/plain": [
              "['my',\n",
              " 'name',\n",
              " 'is',\n",
              " 'sudhanshu',\n",
              " 'kr',\n",
              " ',',\n",
              " 'i',\n",
              " 'am',\n",
              " 'working',\n",
              " 'with',\n",
              " 'euronai',\n",
              " '.']"
            ]
          },
          "metadata": {},
          "execution_count": 125
        }
      ]
    },
    {
      "cell_type": "code",
      "source": [
        "from nltk import ne_chunk"
      ],
      "metadata": {
        "id": "X7QrRpjAbQHC"
      },
      "execution_count": 126,
      "outputs": []
    },
    {
      "cell_type": "code",
      "source": [
        "from nltk import pos_tag\n",
        "pos_tag(word_tokenize(text))"
      ],
      "metadata": {
        "colab": {
          "base_uri": "https://localhost:8080/"
        },
        "id": "FscukXjPbhNE",
        "outputId": "39c821e1-0603-4bb8-e519-0b5b196e649f"
      },
      "execution_count": 127,
      "outputs": [
        {
          "output_type": "execute_result",
          "data": {
            "text/plain": [
              "[('my', 'PRP$'),\n",
              " ('name', 'NN'),\n",
              " ('is', 'VBZ'),\n",
              " ('sudhanshu', 'JJ'),\n",
              " ('kr', 'NN'),\n",
              " (',', ','),\n",
              " ('i', 'NN'),\n",
              " ('am', 'VBP'),\n",
              " ('working', 'VBG'),\n",
              " ('with', 'IN'),\n",
              " ('euronai', 'NN'),\n",
              " ('.', '.')]"
            ]
          },
          "metadata": {},
          "execution_count": 127
        }
      ]
    },
    {
      "cell_type": "markdown",
      "source": [],
      "metadata": {
        "id": "UXyavD20cS57"
      }
    },
    {
      "cell_type": "code",
      "metadata": {
        "colab": {
          "base_uri": "https://localhost:8080/"
        },
        "id": "22a9e40d",
        "outputId": "5c6828a0-f023-4d7c-bf29-07134fb23999"
      },
      "source": [
        "import nltk\n",
        "nltk.download('averaged_perceptron_tagger_eng')"
      ],
      "execution_count": 128,
      "outputs": [
        {
          "output_type": "stream",
          "name": "stderr",
          "text": [
            "[nltk_data] Downloading package averaged_perceptron_tagger_eng to\n",
            "[nltk_data]     /root/nltk_data...\n",
            "[nltk_data]   Package averaged_perceptron_tagger_eng is already up-to-\n",
            "[nltk_data]       date!\n"
          ]
        },
        {
          "output_type": "execute_result",
          "data": {
            "text/plain": [
              "True"
            ]
          },
          "metadata": {},
          "execution_count": 128
        }
      ]
    },
    {
      "cell_type": "code",
      "metadata": {
        "colab": {
          "base_uri": "https://localhost:8080/"
        },
        "id": "3a378b37",
        "outputId": "046580b4-595f-4040-f2c5-7721869d1062"
      },
      "source": [
        "!pip install svgling"
      ],
      "execution_count": 129,
      "outputs": [
        {
          "output_type": "stream",
          "name": "stdout",
          "text": [
            "Requirement already satisfied: svgling in /usr/local/lib/python3.12/dist-packages (0.5.0)\n",
            "Requirement already satisfied: svgwrite in /usr/local/lib/python3.12/dist-packages (from svgling) (1.4.3)\n"
          ]
        }
      ]
    },
    {
      "cell_type": "code",
      "metadata": {
        "colab": {
          "base_uri": "https://localhost:8080/"
        },
        "id": "77cccb77",
        "outputId": "c9505880-314b-4dbf-f440-02d2fdc93e75"
      },
      "source": [
        "import nltk\n",
        "nltk.download('words')"
      ],
      "execution_count": 130,
      "outputs": [
        {
          "output_type": "stream",
          "name": "stderr",
          "text": [
            "[nltk_data] Downloading package words to /root/nltk_data...\n",
            "[nltk_data]   Package words is already up-to-date!\n"
          ]
        },
        {
          "output_type": "execute_result",
          "data": {
            "text/plain": [
              "True"
            ]
          },
          "metadata": {},
          "execution_count": 130
        }
      ]
    },
    {
      "cell_type": "code",
      "source": [
        "ne_chunk(pos_tag(word_tokenize(text)))"
      ],
      "metadata": {
        "colab": {
          "base_uri": "https://localhost:8080/",
          "height": 141
        },
        "id": "CCnfQyiJbxDe",
        "outputId": "42a68222-be75-4b53-e8c7-60666f9eb5b0"
      },
      "execution_count": 131,
      "outputs": [
        {
          "output_type": "execute_result",
          "data": {
            "text/plain": [
              "Tree('S', [('my', 'PRP$'), ('name', 'NN'), ('is', 'VBZ'), ('sudhanshu', 'JJ'), ('kr', 'NN'), (',', ','), ('i', 'NN'), ('am', 'VBP'), ('working', 'VBG'), ('with', 'IN'), ('euronai', 'NN'), ('.', '.')])"
            ],
            "image/svg+xml": "<svg baseProfile=\"full\" height=\"120px\" preserveAspectRatio=\"xMidYMid meet\" style=\"font-family: times, serif; font-weight: normal; font-style: normal; font-size: 16px\" version=\"1.1\" viewBox=\"0,0,568.0,120.0\" width=\"568px\" xmlns=\"http://www.w3.org/2000/svg\" xmlns:ev=\"http://www.w3.org/2001/xml-events\" xmlns:xlink=\"http://www.w3.org/1999/xlink\"><defs /><svg width=\"100%\" x=\"0\" y=\"0px\"><defs /><text text-anchor=\"middle\" x=\"50%\" y=\"16px\">S</text></svg><svg width=\"8.4507%\" x=\"0%\" y=\"48px\"><defs /><svg width=\"100%\" x=\"0\" y=\"0px\"><defs /><text text-anchor=\"middle\" x=\"50%\" y=\"16px\">my</text></svg><svg width=\"100%\" x=\"0%\" y=\"48px\"><defs /><svg width=\"100%\" x=\"0\" y=\"0px\"><defs /><text text-anchor=\"middle\" x=\"50%\" y=\"16px\">PRP$</text></svg></svg><line stroke=\"black\" x1=\"50%\" x2=\"50%\" y1=\"20px\" y2=\"48px\" /></svg><line stroke=\"black\" x1=\"50%\" x2=\"4.22535%\" y1=\"20px\" y2=\"48px\" /><svg width=\"8.4507%\" x=\"8.4507%\" y=\"48px\"><defs /><svg width=\"100%\" x=\"0\" y=\"0px\"><defs /><text text-anchor=\"middle\" x=\"50%\" y=\"16px\">name</text></svg><svg width=\"100%\" x=\"0%\" y=\"48px\"><defs /><svg width=\"100%\" x=\"0\" y=\"0px\"><defs /><text text-anchor=\"middle\" x=\"50%\" y=\"16px\">NN</text></svg></svg><line stroke=\"black\" x1=\"50%\" x2=\"50%\" y1=\"20px\" y2=\"48px\" /></svg><line stroke=\"black\" x1=\"50%\" x2=\"12.6761%\" y1=\"20px\" y2=\"48px\" /><svg width=\"7.04225%\" x=\"16.9014%\" y=\"48px\"><defs /><svg width=\"100%\" x=\"0\" y=\"0px\"><defs /><text text-anchor=\"middle\" x=\"50%\" y=\"16px\">is</text></svg><svg width=\"100%\" x=\"0%\" y=\"48px\"><defs /><svg width=\"100%\" x=\"0\" y=\"0px\"><defs /><text text-anchor=\"middle\" x=\"50%\" y=\"16px\">VBZ</text></svg></svg><line stroke=\"black\" x1=\"50%\" x2=\"50%\" y1=\"20px\" y2=\"48px\" /></svg><line stroke=\"black\" x1=\"50%\" x2=\"20.4225%\" y1=\"20px\" y2=\"48px\" /><svg width=\"15.493%\" x=\"23.9437%\" y=\"48px\"><defs /><svg width=\"100%\" x=\"0\" y=\"0px\"><defs /><text text-anchor=\"middle\" x=\"50%\" y=\"16px\">sudhanshu</text></svg><svg width=\"100%\" x=\"0%\" y=\"48px\"><defs /><svg width=\"100%\" x=\"0\" y=\"0px\"><defs /><text text-anchor=\"middle\" x=\"50%\" y=\"16px\">JJ</text></svg></svg><line stroke=\"black\" x1=\"50%\" x2=\"50%\" y1=\"20px\" y2=\"48px\" /></svg><line stroke=\"black\" x1=\"50%\" x2=\"31.6901%\" y1=\"20px\" y2=\"48px\" /><svg width=\"5.6338%\" x=\"39.4366%\" y=\"48px\"><defs /><svg width=\"100%\" x=\"0\" y=\"0px\"><defs /><text text-anchor=\"middle\" x=\"50%\" y=\"16px\">kr</text></svg><svg width=\"100%\" x=\"0%\" y=\"48px\"><defs /><svg width=\"100%\" x=\"0\" y=\"0px\"><defs /><text text-anchor=\"middle\" x=\"50%\" y=\"16px\">NN</text></svg></svg><line stroke=\"black\" x1=\"50%\" x2=\"50%\" y1=\"20px\" y2=\"48px\" /></svg><line stroke=\"black\" x1=\"50%\" x2=\"42.2535%\" y1=\"20px\" y2=\"48px\" /><svg width=\"4.22535%\" x=\"45.0704%\" y=\"48px\"><defs /><svg width=\"100%\" x=\"0\" y=\"0px\"><defs /><text text-anchor=\"middle\" x=\"50%\" y=\"16px\">,</text></svg><svg width=\"100%\" x=\"0%\" y=\"48px\"><defs /><svg width=\"100%\" x=\"0\" y=\"0px\"><defs /><text text-anchor=\"middle\" x=\"50%\" y=\"16px\">,</text></svg></svg><line stroke=\"black\" x1=\"50%\" x2=\"50%\" y1=\"20px\" y2=\"48px\" /></svg><line stroke=\"black\" x1=\"50%\" x2=\"47.1831%\" y1=\"20px\" y2=\"48px\" /><svg width=\"5.6338%\" x=\"49.2958%\" y=\"48px\"><defs /><svg width=\"100%\" x=\"0\" y=\"0px\"><defs /><text text-anchor=\"middle\" x=\"50%\" y=\"16px\">i</text></svg><svg width=\"100%\" x=\"0%\" y=\"48px\"><defs /><svg width=\"100%\" x=\"0\" y=\"0px\"><defs /><text text-anchor=\"middle\" x=\"50%\" y=\"16px\">NN</text></svg></svg><line stroke=\"black\" x1=\"50%\" x2=\"50%\" y1=\"20px\" y2=\"48px\" /></svg><line stroke=\"black\" x1=\"50%\" x2=\"52.1127%\" y1=\"20px\" y2=\"48px\" /><svg width=\"7.04225%\" x=\"54.9296%\" y=\"48px\"><defs /><svg width=\"100%\" x=\"0\" y=\"0px\"><defs /><text text-anchor=\"middle\" x=\"50%\" y=\"16px\">am</text></svg><svg width=\"100%\" x=\"0%\" y=\"48px\"><defs /><svg width=\"100%\" x=\"0\" y=\"0px\"><defs /><text text-anchor=\"middle\" x=\"50%\" y=\"16px\">VBP</text></svg></svg><line stroke=\"black\" x1=\"50%\" x2=\"50%\" y1=\"20px\" y2=\"48px\" /></svg><line stroke=\"black\" x1=\"50%\" x2=\"58.4507%\" y1=\"20px\" y2=\"48px\" /><svg width=\"12.6761%\" x=\"61.9718%\" y=\"48px\"><defs /><svg width=\"100%\" x=\"0\" y=\"0px\"><defs /><text text-anchor=\"middle\" x=\"50%\" y=\"16px\">working</text></svg><svg width=\"100%\" x=\"0%\" y=\"48px\"><defs /><svg width=\"100%\" x=\"0\" y=\"0px\"><defs /><text text-anchor=\"middle\" x=\"50%\" y=\"16px\">VBG</text></svg></svg><line stroke=\"black\" x1=\"50%\" x2=\"50%\" y1=\"20px\" y2=\"48px\" /></svg><line stroke=\"black\" x1=\"50%\" x2=\"68.3099%\" y1=\"20px\" y2=\"48px\" /><svg width=\"8.4507%\" x=\"74.6479%\" y=\"48px\"><defs /><svg width=\"100%\" x=\"0\" y=\"0px\"><defs /><text text-anchor=\"middle\" x=\"50%\" y=\"16px\">with</text></svg><svg width=\"100%\" x=\"0%\" y=\"48px\"><defs /><svg width=\"100%\" x=\"0\" y=\"0px\"><defs /><text text-anchor=\"middle\" x=\"50%\" y=\"16px\">IN</text></svg></svg><line stroke=\"black\" x1=\"50%\" x2=\"50%\" y1=\"20px\" y2=\"48px\" /></svg><line stroke=\"black\" x1=\"50%\" x2=\"78.8732%\" y1=\"20px\" y2=\"48px\" /><svg width=\"12.6761%\" x=\"83.0986%\" y=\"48px\"><defs /><svg width=\"100%\" x=\"0\" y=\"0px\"><defs /><text text-anchor=\"middle\" x=\"50%\" y=\"16px\">euronai</text></svg><svg width=\"100%\" x=\"0%\" y=\"48px\"><defs /><svg width=\"100%\" x=\"0\" y=\"0px\"><defs /><text text-anchor=\"middle\" x=\"50%\" y=\"16px\">NN</text></svg></svg><line stroke=\"black\" x1=\"50%\" x2=\"50%\" y1=\"20px\" y2=\"48px\" /></svg><line stroke=\"black\" x1=\"50%\" x2=\"89.4366%\" y1=\"20px\" y2=\"48px\" /><svg width=\"4.22535%\" x=\"95.7746%\" y=\"48px\"><defs /><svg width=\"100%\" x=\"0\" y=\"0px\"><defs /><text text-anchor=\"middle\" x=\"50%\" y=\"16px\">.</text></svg><svg width=\"100%\" x=\"0%\" y=\"48px\"><defs /><svg width=\"100%\" x=\"0\" y=\"0px\"><defs /><text text-anchor=\"middle\" x=\"50%\" y=\"16px\">.</text></svg></svg><line stroke=\"black\" x1=\"50%\" x2=\"50%\" y1=\"20px\" y2=\"48px\" /></svg><line stroke=\"black\" x1=\"50%\" x2=\"97.8873%\" y1=\"20px\" y2=\"48px\" /></svg>"
          },
          "metadata": {},
          "execution_count": 131
        }
      ]
    },
    {
      "cell_type": "code",
      "source": [
        "from transformers import pipeline"
      ],
      "metadata": {
        "id": "hCo8T_nTcEs5"
      },
      "execution_count": 118,
      "outputs": []
    },
    {
      "cell_type": "code",
      "source": [
        "ner_generations=pipeline('ner',model='dbmdz/bert-large-cased-finetuned-conll03-english')"
      ],
      "metadata": {
        "colab": {
          "base_uri": "https://localhost:8080/"
        },
        "id": "Wv7Ps6Q9dQgT",
        "outputId": "17d64850-2f94-45e5-b342-b2deb843f933"
      },
      "execution_count": 119,
      "outputs": [
        {
          "output_type": "stream",
          "name": "stderr",
          "text": [
            "Some weights of the model checkpoint at dbmdz/bert-large-cased-finetuned-conll03-english were not used when initializing BertForTokenClassification: ['bert.pooler.dense.bias', 'bert.pooler.dense.weight']\n",
            "- This IS expected if you are initializing BertForTokenClassification from the checkpoint of a model trained on another task or with another architecture (e.g. initializing a BertForSequenceClassification model from a BertForPreTraining model).\n",
            "- This IS NOT expected if you are initializing BertForTokenClassification from the checkpoint of a model that you expect to be exactly identical (initializing a BertForSequenceClassification model from a BertForSequenceClassification model).\n",
            "Device set to use cpu\n"
          ]
        }
      ]
    },
    {
      "cell_type": "code",
      "source": [],
      "metadata": {
        "colab": {
          "base_uri": "https://localhost:8080/",
          "height": 141
        },
        "id": "6H65b_7kdnMc",
        "outputId": "8eb62fe7-c9ea-4988-c8ad-40c98f149a5c"
      },
      "execution_count": 123,
      "outputs": [
        {
          "output_type": "error",
          "ename": "NameError",
          "evalue": "name 'ppos_tag' is not defined",
          "traceback": [
            "\u001b[0;31m---------------------------------------------------------------------------\u001b[0m",
            "\u001b[0;31mNameError\u001b[0m                                 Traceback (most recent call last)",
            "\u001b[0;32m/tmp/ipython-input-1060843274.py\u001b[0m in \u001b[0;36m<cell line: 0>\u001b[0;34m()\u001b[0m\n\u001b[0;32m----> 1\u001b[0;31m \u001b[0mner_generations\u001b[0m\u001b[0;34m(\u001b[0m\u001b[0mppos_tag\u001b[0m\u001b[0;34m(\u001b[0m\u001b[0mtext\u001b[0m\u001b[0;34m)\u001b[0m\u001b[0;34m)\u001b[0m\u001b[0;34m\u001b[0m\u001b[0;34m\u001b[0m\u001b[0m\n\u001b[0m",
            "\u001b[0;31mNameError\u001b[0m: name 'ppos_tag' is not defined"
          ]
        }
      ]
    },
    {
      "cell_type": "code",
      "source": [
        "from nltk import word_tokenize, pos_tag, ne_chunk\n",
        "\n",
        "text = \"my name is sudhanshu kr, i am working with euronai.\"\n",
        "tree = ne_chunk(pos_tag(word_tokenize(text)))\n",
        "tree.pprint()\n"
      ],
      "metadata": {
        "colab": {
          "base_uri": "https://localhost:8080/"
        },
        "id": "dFa5qOWCfq1J",
        "outputId": "a57d2fdd-1709-4c18-fa7e-86cb30485ad1"
      },
      "execution_count": 133,
      "outputs": [
        {
          "output_type": "stream",
          "name": "stdout",
          "text": [
            "(S\n",
            "  my/PRP$\n",
            "  name/NN\n",
            "  is/VBZ\n",
            "  sudhanshu/JJ\n",
            "  kr/NN\n",
            "  ,/,\n",
            "  i/NN\n",
            "  am/VBP\n",
            "  working/VBG\n",
            "  with/IN\n",
            "  euronai/NN\n",
            "  ./.)\n"
          ]
        }
      ]
    },
    {
      "cell_type": "code",
      "source": [],
      "metadata": {
        "id": "LowMMkOof6Lr"
      },
      "execution_count": null,
      "outputs": []
    }
  ]
}