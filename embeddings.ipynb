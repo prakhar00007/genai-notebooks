{
  "nbformat": 4,
  "nbformat_minor": 0,
  "metadata": {
    "colab": {
      "provenance": [],
      "authorship_tag": "ABX9TyPTX2iXIvu7DQY89TK/ZVBd",
      "include_colab_link": true
    },
    "kernelspec": {
      "name": "python3",
      "display_name": "Python 3"
    },
    "language_info": {
      "name": "python"
    }
  },
  "cells": [
    {
      "cell_type": "markdown",
      "metadata": {
        "id": "view-in-github",
        "colab_type": "text"
      },
      "source": [
        "<a href=\"https://colab.research.google.com/github/prakhar00007/genai-notebooks/blob/main/embeddings.ipynb\" target=\"_parent\"><img src=\"https://colab.research.google.com/assets/colab-badge.svg\" alt=\"Open In Colab\"/></a>"
      ]
    },
    {
      "cell_type": "markdown",
      "source": [
        "## One Hot Encoding"
      ],
      "metadata": {
        "id": "lITUbFUPz6ZO"
      }
    },
    {
      "cell_type": "code",
      "source": [
        "corpus=['I love NLP','I teach Gen AI',\"I am working on Euron\"]"
      ],
      "metadata": {
        "id": "1tkM7i_c0AZe"
      },
      "execution_count": 1,
      "outputs": []
    },
    {
      "cell_type": "code",
      "source": [
        "corpus= [text.lower() for text in corpus]\n"
      ],
      "metadata": {
        "id": "bniFEiUW0RlQ"
      },
      "execution_count": 2,
      "outputs": []
    },
    {
      "cell_type": "code",
      "source": [
        "corpus"
      ],
      "metadata": {
        "colab": {
          "base_uri": "https://localhost:8080/"
        },
        "id": "j6-Ne6DU0fkj",
        "outputId": "e5bcdbb6-4649-4deb-a97a-b8d127f5def2"
      },
      "execution_count": 3,
      "outputs": [
        {
          "output_type": "execute_result",
          "data": {
            "text/plain": [
              "['i love nlp', 'i teach gen ai', 'i am working on euron']"
            ]
          },
          "metadata": {},
          "execution_count": 3
        }
      ]
    },
    {
      "cell_type": "code",
      "source": [
        "unique_words=list(set(\" \".join(corpus).split()))"
      ],
      "metadata": {
        "id": "owuNMSTj0g7x"
      },
      "execution_count": 4,
      "outputs": []
    },
    {
      "cell_type": "code",
      "source": [
        "unique_words\n"
      ],
      "metadata": {
        "colab": {
          "base_uri": "https://localhost:8080/"
        },
        "id": "44Nwtu5c09St",
        "outputId": "3c5cc81e-bb6c-4740-c963-9bf5c1fa6c4d"
      },
      "execution_count": 5,
      "outputs": [
        {
          "output_type": "execute_result",
          "data": {
            "text/plain": [
              "['working', 'am', 'euron', 'love', 'ai', 'gen', 'teach', 'i', 'on', 'nlp']"
            ]
          },
          "metadata": {},
          "execution_count": 5
        }
      ]
    },
    {
      "cell_type": "code",
      "source": [
        "enumerate(unique_words)"
      ],
      "metadata": {
        "colab": {
          "base_uri": "https://localhost:8080/"
        },
        "id": "krRMGm001xgt",
        "outputId": "4730ae9a-0069-4b75-98f9-cb12ca26cee9"
      },
      "execution_count": 6,
      "outputs": [
        {
          "output_type": "execute_result",
          "data": {
            "text/plain": [
              "<enumerate at 0x7dead2d60900>"
            ]
          },
          "metadata": {},
          "execution_count": 6
        }
      ]
    },
    {
      "cell_type": "code",
      "source": [
        "enu=iter(enumerate(unique_words))"
      ],
      "metadata": {
        "id": "_jXOIlJu2ZUN"
      },
      "execution_count": 7,
      "outputs": []
    },
    {
      "cell_type": "code",
      "source": [
        "next(enu)"
      ],
      "metadata": {
        "colab": {
          "base_uri": "https://localhost:8080/"
        },
        "id": "ombQ43g02oRV",
        "outputId": "ec8b7456-d6fe-4e34-c469-abeab681a1d5"
      },
      "execution_count": 8,
      "outputs": [
        {
          "output_type": "execute_result",
          "data": {
            "text/plain": [
              "(0, 'working')"
            ]
          },
          "metadata": {},
          "execution_count": 8
        }
      ]
    },
    {
      "cell_type": "code",
      "source": [
        "for i in enumerate(unique_words):\n",
        "  print(i)"
      ],
      "metadata": {
        "colab": {
          "base_uri": "https://localhost:8080/"
        },
        "id": "XBwgpwLk2pYD",
        "outputId": "2cd1b404-3bf5-4dc1-bd76-36405f158475"
      },
      "execution_count": 9,
      "outputs": [
        {
          "output_type": "stream",
          "name": "stdout",
          "text": [
            "(0, 'working')\n",
            "(1, 'am')\n",
            "(2, 'euron')\n",
            "(3, 'love')\n",
            "(4, 'ai')\n",
            "(5, 'gen')\n",
            "(6, 'teach')\n",
            "(7, 'i')\n",
            "(8, 'on')\n",
            "(9, 'nlp')\n"
          ]
        }
      ]
    },
    {
      "cell_type": "code",
      "source": [
        "for i, word in enumerate(unique_words):\n",
        "    print(f\"{word}: {i}\")\n"
      ],
      "metadata": {
        "colab": {
          "base_uri": "https://localhost:8080/"
        },
        "id": "AMYwZwDR3FoB",
        "outputId": "b65c8156-d9d3-4b7f-d6d7-bb7f218ea710"
      },
      "execution_count": 10,
      "outputs": [
        {
          "output_type": "stream",
          "name": "stdout",
          "text": [
            "working: 0\n",
            "am: 1\n",
            "euron: 2\n",
            "love: 3\n",
            "ai: 4\n",
            "gen: 5\n",
            "teach: 6\n",
            "i: 7\n",
            "on: 8\n",
            "nlp: 9\n"
          ]
        }
      ]
    },
    {
      "cell_type": "code",
      "source": [
        "word_to_index = {word: i for i, word in enumerate(unique_words)}\n"
      ],
      "metadata": {
        "id": "WBGbHe5K3kOr"
      },
      "execution_count": 11,
      "outputs": []
    },
    {
      "cell_type": "code",
      "source": [
        "word_to_index"
      ],
      "metadata": {
        "colab": {
          "base_uri": "https://localhost:8080/"
        },
        "id": "jvdoVj-l4S3u",
        "outputId": "24352de4-e913-45d8-d64a-bb031098c88d"
      },
      "execution_count": 12,
      "outputs": [
        {
          "output_type": "execute_result",
          "data": {
            "text/plain": [
              "{'working': 0,\n",
              " 'am': 1,\n",
              " 'euron': 2,\n",
              " 'love': 3,\n",
              " 'ai': 4,\n",
              " 'gen': 5,\n",
              " 'teach': 6,\n",
              " 'i': 7,\n",
              " 'on': 8,\n",
              " 'nlp': 9}"
            ]
          },
          "metadata": {},
          "execution_count": 12
        }
      ]
    },
    {
      "cell_type": "code",
      "source": [
        "corpus"
      ],
      "metadata": {
        "colab": {
          "base_uri": "https://localhost:8080/"
        },
        "id": "ece0N0mz4UKi",
        "outputId": "36f6705d-2d64-47cc-a2be-96c6d937a2b3"
      },
      "execution_count": 13,
      "outputs": [
        {
          "output_type": "execute_result",
          "data": {
            "text/plain": [
              "['i love nlp', 'i teach gen ai', 'i am working on euron']"
            ]
          },
          "metadata": {},
          "execution_count": 13
        }
      ]
    },
    {
      "cell_type": "code",
      "source": [
        "one_hot_encoder=[]\n",
        "for sentence in corpus:\n",
        "  print(sentence)\n",
        "  sentence_vector=[]"
      ],
      "metadata": {
        "colab": {
          "base_uri": "https://localhost:8080/"
        },
        "id": "YcdM8TNi47Kr",
        "outputId": "e661d745-bdc1-4f4a-d1e7-3f0473fabe32"
      },
      "execution_count": 14,
      "outputs": [
        {
          "output_type": "stream",
          "name": "stdout",
          "text": [
            "i love nlp\n",
            "i teach gen ai\n",
            "i am working on euron\n"
          ]
        }
      ]
    },
    {
      "cell_type": "code",
      "source": [
        "one_hot_vecotor = []\n",
        "for sentence in corpus:\n",
        "    print(sentence)\n",
        "    sentence_vector = []\n",
        "    for word in sentence.split():\n",
        "        vector = [0] * len(unique_words)\n",
        "        print(vector)\n",
        "        vector[word_to_index[word]] = 1\n",
        "        print('word to index',word_to_index[word])\n",
        "        print(vector[word_to_index[word]])\n",
        "        print('sentece vector befor appending',sentence_vector)\n",
        "        sentence_vector.append(vector)\n",
        "        print('sentence vector after appending',sentence_vector)\n",
        "\n",
        "    one_hot_vecotor.append(sentence_vector)\n",
        "    print('-----------')\n"
      ],
      "metadata": {
        "colab": {
          "base_uri": "https://localhost:8080/"
        },
        "id": "cHElCbbE4-IC",
        "outputId": "2a86b1dd-adb2-43c7-af82-fa21358e56fc"
      },
      "execution_count": 15,
      "outputs": [
        {
          "output_type": "stream",
          "name": "stdout",
          "text": [
            "i love nlp\n",
            "[0, 0, 0, 0, 0, 0, 0, 0, 0, 0]\n",
            "word to index 7\n",
            "1\n",
            "sentece vector befor appending []\n",
            "sentence vector after appending [[0, 0, 0, 0, 0, 0, 0, 1, 0, 0]]\n",
            "[0, 0, 0, 0, 0, 0, 0, 0, 0, 0]\n",
            "word to index 3\n",
            "1\n",
            "sentece vector befor appending [[0, 0, 0, 0, 0, 0, 0, 1, 0, 0]]\n",
            "sentence vector after appending [[0, 0, 0, 0, 0, 0, 0, 1, 0, 0], [0, 0, 0, 1, 0, 0, 0, 0, 0, 0]]\n",
            "[0, 0, 0, 0, 0, 0, 0, 0, 0, 0]\n",
            "word to index 9\n",
            "1\n",
            "sentece vector befor appending [[0, 0, 0, 0, 0, 0, 0, 1, 0, 0], [0, 0, 0, 1, 0, 0, 0, 0, 0, 0]]\n",
            "sentence vector after appending [[0, 0, 0, 0, 0, 0, 0, 1, 0, 0], [0, 0, 0, 1, 0, 0, 0, 0, 0, 0], [0, 0, 0, 0, 0, 0, 0, 0, 0, 1]]\n",
            "-----------\n",
            "i teach gen ai\n",
            "[0, 0, 0, 0, 0, 0, 0, 0, 0, 0]\n",
            "word to index 7\n",
            "1\n",
            "sentece vector befor appending []\n",
            "sentence vector after appending [[0, 0, 0, 0, 0, 0, 0, 1, 0, 0]]\n",
            "[0, 0, 0, 0, 0, 0, 0, 0, 0, 0]\n",
            "word to index 6\n",
            "1\n",
            "sentece vector befor appending [[0, 0, 0, 0, 0, 0, 0, 1, 0, 0]]\n",
            "sentence vector after appending [[0, 0, 0, 0, 0, 0, 0, 1, 0, 0], [0, 0, 0, 0, 0, 0, 1, 0, 0, 0]]\n",
            "[0, 0, 0, 0, 0, 0, 0, 0, 0, 0]\n",
            "word to index 5\n",
            "1\n",
            "sentece vector befor appending [[0, 0, 0, 0, 0, 0, 0, 1, 0, 0], [0, 0, 0, 0, 0, 0, 1, 0, 0, 0]]\n",
            "sentence vector after appending [[0, 0, 0, 0, 0, 0, 0, 1, 0, 0], [0, 0, 0, 0, 0, 0, 1, 0, 0, 0], [0, 0, 0, 0, 0, 1, 0, 0, 0, 0]]\n",
            "[0, 0, 0, 0, 0, 0, 0, 0, 0, 0]\n",
            "word to index 4\n",
            "1\n",
            "sentece vector befor appending [[0, 0, 0, 0, 0, 0, 0, 1, 0, 0], [0, 0, 0, 0, 0, 0, 1, 0, 0, 0], [0, 0, 0, 0, 0, 1, 0, 0, 0, 0]]\n",
            "sentence vector after appending [[0, 0, 0, 0, 0, 0, 0, 1, 0, 0], [0, 0, 0, 0, 0, 0, 1, 0, 0, 0], [0, 0, 0, 0, 0, 1, 0, 0, 0, 0], [0, 0, 0, 0, 1, 0, 0, 0, 0, 0]]\n",
            "-----------\n",
            "i am working on euron\n",
            "[0, 0, 0, 0, 0, 0, 0, 0, 0, 0]\n",
            "word to index 7\n",
            "1\n",
            "sentece vector befor appending []\n",
            "sentence vector after appending [[0, 0, 0, 0, 0, 0, 0, 1, 0, 0]]\n",
            "[0, 0, 0, 0, 0, 0, 0, 0, 0, 0]\n",
            "word to index 1\n",
            "1\n",
            "sentece vector befor appending [[0, 0, 0, 0, 0, 0, 0, 1, 0, 0]]\n",
            "sentence vector after appending [[0, 0, 0, 0, 0, 0, 0, 1, 0, 0], [0, 1, 0, 0, 0, 0, 0, 0, 0, 0]]\n",
            "[0, 0, 0, 0, 0, 0, 0, 0, 0, 0]\n",
            "word to index 0\n",
            "1\n",
            "sentece vector befor appending [[0, 0, 0, 0, 0, 0, 0, 1, 0, 0], [0, 1, 0, 0, 0, 0, 0, 0, 0, 0]]\n",
            "sentence vector after appending [[0, 0, 0, 0, 0, 0, 0, 1, 0, 0], [0, 1, 0, 0, 0, 0, 0, 0, 0, 0], [1, 0, 0, 0, 0, 0, 0, 0, 0, 0]]\n",
            "[0, 0, 0, 0, 0, 0, 0, 0, 0, 0]\n",
            "word to index 8\n",
            "1\n",
            "sentece vector befor appending [[0, 0, 0, 0, 0, 0, 0, 1, 0, 0], [0, 1, 0, 0, 0, 0, 0, 0, 0, 0], [1, 0, 0, 0, 0, 0, 0, 0, 0, 0]]\n",
            "sentence vector after appending [[0, 0, 0, 0, 0, 0, 0, 1, 0, 0], [0, 1, 0, 0, 0, 0, 0, 0, 0, 0], [1, 0, 0, 0, 0, 0, 0, 0, 0, 0], [0, 0, 0, 0, 0, 0, 0, 0, 1, 0]]\n",
            "[0, 0, 0, 0, 0, 0, 0, 0, 0, 0]\n",
            "word to index 2\n",
            "1\n",
            "sentece vector befor appending [[0, 0, 0, 0, 0, 0, 0, 1, 0, 0], [0, 1, 0, 0, 0, 0, 0, 0, 0, 0], [1, 0, 0, 0, 0, 0, 0, 0, 0, 0], [0, 0, 0, 0, 0, 0, 0, 0, 1, 0]]\n",
            "sentence vector after appending [[0, 0, 0, 0, 0, 0, 0, 1, 0, 0], [0, 1, 0, 0, 0, 0, 0, 0, 0, 0], [1, 0, 0, 0, 0, 0, 0, 0, 0, 0], [0, 0, 0, 0, 0, 0, 0, 0, 1, 0], [0, 0, 1, 0, 0, 0, 0, 0, 0, 0]]\n",
            "-----------\n"
          ]
        }
      ]
    },
    {
      "cell_type": "code",
      "source": [
        "one_hot_vecotor"
      ],
      "metadata": {
        "colab": {
          "base_uri": "https://localhost:8080/"
        },
        "id": "33vlI2-k7KyY",
        "outputId": "5b95bf69-bda7-405b-8e94-bee0cc25956c"
      },
      "execution_count": 16,
      "outputs": [
        {
          "output_type": "execute_result",
          "data": {
            "text/plain": [
              "[[[0, 0, 0, 0, 0, 0, 0, 1, 0, 0],\n",
              "  [0, 0, 0, 1, 0, 0, 0, 0, 0, 0],\n",
              "  [0, 0, 0, 0, 0, 0, 0, 0, 0, 1]],\n",
              " [[0, 0, 0, 0, 0, 0, 0, 1, 0, 0],\n",
              "  [0, 0, 0, 0, 0, 0, 1, 0, 0, 0],\n",
              "  [0, 0, 0, 0, 0, 1, 0, 0, 0, 0],\n",
              "  [0, 0, 0, 0, 1, 0, 0, 0, 0, 0]],\n",
              " [[0, 0, 0, 0, 0, 0, 0, 1, 0, 0],\n",
              "  [0, 1, 0, 0, 0, 0, 0, 0, 0, 0],\n",
              "  [1, 0, 0, 0, 0, 0, 0, 0, 0, 0],\n",
              "  [0, 0, 0, 0, 0, 0, 0, 0, 1, 0],\n",
              "  [0, 0, 1, 0, 0, 0, 0, 0, 0, 0]]]"
            ]
          },
          "metadata": {},
          "execution_count": 16
        }
      ]
    },
    {
      "cell_type": "markdown",
      "source": [
        "##Bag of Words (BOW)"
      ],
      "metadata": {
        "id": "LhiUEFdfMA2W"
      }
    },
    {
      "cell_type": "code",
      "source": [
        " corpus=['i love nlp','i teach gen ai','i am working with euron']"
      ],
      "metadata": {
        "id": "NWM2ezDW7wU7"
      },
      "execution_count": 17,
      "outputs": []
    },
    {
      "cell_type": "code",
      "source": [
        "from sklearn.feature_extraction.text import CountVectorizer"
      ],
      "metadata": {
        "id": "zwFaPMZlNR5t"
      },
      "execution_count": 18,
      "outputs": []
    },
    {
      "cell_type": "code",
      "source": [
        "vectorizer=CountVectorizer()"
      ],
      "metadata": {
        "id": "RIqbEB69NeUX"
      },
      "execution_count": 19,
      "outputs": []
    },
    {
      "cell_type": "code",
      "source": [
        "X=vectorizer.fit_transform(corpus)"
      ],
      "metadata": {
        "id": "Lkm_WFABNgzO"
      },
      "execution_count": 20,
      "outputs": []
    },
    {
      "cell_type": "code",
      "source": [
        "X.toarray()"
      ],
      "metadata": {
        "colab": {
          "base_uri": "https://localhost:8080/"
        },
        "id": "I0_MVAjONici",
        "outputId": "7e2bc54e-1ccf-4f56-9217-bec92fc5520a"
      },
      "execution_count": 21,
      "outputs": [
        {
          "output_type": "execute_result",
          "data": {
            "text/plain": [
              "array([[0, 0, 0, 0, 1, 1, 0, 0, 0],\n",
              "       [1, 0, 0, 1, 0, 0, 1, 0, 0],\n",
              "       [0, 1, 1, 0, 0, 0, 0, 1, 1]])"
            ]
          },
          "metadata": {},
          "execution_count": 21
        }
      ]
    },
    {
      "cell_type": "markdown",
      "source": [
        "## TF-IDF"
      ],
      "metadata": {
        "id": "B_RpmGUgmaIU"
      }
    },
    {
      "cell_type": "code",
      "source": [
        "corpus=['i love nlp','i teach gen ai','i am working with euron']"
      ],
      "metadata": {
        "id": "b5FiuFXGNzXD"
      },
      "execution_count": 22,
      "outputs": []
    },
    {
      "cell_type": "code",
      "source": [
        "from sklearn.feature_extraction.text import TfidfVectorizer"
      ],
      "metadata": {
        "id": "KDx-QUFLmguJ"
      },
      "execution_count": 23,
      "outputs": []
    },
    {
      "cell_type": "code",
      "source": [
        "vector_tf_idf= TfidfVectorizer()"
      ],
      "metadata": {
        "id": "AWcsEan1mr_e"
      },
      "execution_count": 24,
      "outputs": []
    },
    {
      "cell_type": "code",
      "source": [
        "X= vector_tf_idf.fit_transform(corpus)"
      ],
      "metadata": {
        "id": "gAEB1YEVmx9k"
      },
      "execution_count": 25,
      "outputs": []
    },
    {
      "cell_type": "code",
      "source": [
        "X.toarray()"
      ],
      "metadata": {
        "colab": {
          "base_uri": "https://localhost:8080/"
        },
        "id": "xhgtmO2hm6M5",
        "outputId": "64ce7e18-4896-4613-934f-2385b3906b43"
      },
      "execution_count": 26,
      "outputs": [
        {
          "output_type": "execute_result",
          "data": {
            "text/plain": [
              "array([[0.        , 0.        , 0.        , 0.        , 0.70710678,\n",
              "        0.70710678, 0.        , 0.        , 0.        ],\n",
              "       [0.57735027, 0.        , 0.        , 0.57735027, 0.        ,\n",
              "        0.        , 0.57735027, 0.        , 0.        ],\n",
              "       [0.        , 0.5       , 0.5       , 0.        , 0.        ,\n",
              "        0.        , 0.        , 0.5       , 0.5       ]])"
            ]
          },
          "metadata": {},
          "execution_count": 26
        }
      ]
    },
    {
      "cell_type": "code",
      "source": [
        "corpus"
      ],
      "metadata": {
        "colab": {
          "base_uri": "https://localhost:8080/"
        },
        "id": "H3lnTXM-nDsS",
        "outputId": "ff490e72-639c-4cf4-aef2-9660df7a7ef6"
      },
      "execution_count": 27,
      "outputs": [
        {
          "output_type": "execute_result",
          "data": {
            "text/plain": [
              "['i love nlp', 'i teach gen ai', 'i am working with euron']"
            ]
          },
          "metadata": {},
          "execution_count": 27
        }
      ]
    },
    {
      "cell_type": "code",
      "source": [
        "len(list(set(\" \".join(corpus).split())))"
      ],
      "metadata": {
        "colab": {
          "base_uri": "https://localhost:8080/"
        },
        "id": "MEQQ9F1MoQaD",
        "outputId": "cc5bd6e3-3e09-4a49-d20d-1546f7ea8021"
      },
      "execution_count": 28,
      "outputs": [
        {
          "output_type": "execute_result",
          "data": {
            "text/plain": [
              "10"
            ]
          },
          "metadata": {},
          "execution_count": 28
        }
      ]
    },
    {
      "cell_type": "code",
      "source": [
        "corpus_new=['pappu nach nahi sakta','pappu loves dancing', 'pappu stops dancing']"
      ],
      "metadata": {
        "id": "LQKVQmH8odyo"
      },
      "execution_count": 29,
      "outputs": []
    },
    {
      "cell_type": "code",
      "source": [
        "from sklearn.feature_extraction.text import TfidfVectorizer"
      ],
      "metadata": {
        "id": "IFY4pdV-xprf"
      },
      "execution_count": 30,
      "outputs": []
    },
    {
      "cell_type": "code",
      "source": [
        "vector_tf_idf= TfidfVectorizer()"
      ],
      "metadata": {
        "id": "8lH0VbS9xvuw"
      },
      "execution_count": 31,
      "outputs": []
    },
    {
      "cell_type": "code",
      "source": [
        "X=vector_tf_idf.fit_transform(corpus_new)\n"
      ],
      "metadata": {
        "id": "Ld77ovtmx2Ie"
      },
      "execution_count": 32,
      "outputs": []
    },
    {
      "cell_type": "code",
      "source": [
        "X.toarray()"
      ],
      "metadata": {
        "colab": {
          "base_uri": "https://localhost:8080/"
        },
        "id": "B2rQ0di7x7CH",
        "outputId": "920c1b9c-3ab6-4dcd-889f-d503137cc6bb"
      },
      "execution_count": 33,
      "outputs": [
        {
          "output_type": "execute_result",
          "data": {
            "text/plain": [
              "array([[0.        , 0.        , 0.54645401, 0.54645401, 0.32274454,\n",
              "        0.54645401, 0.        ],\n",
              "       [0.54783215, 0.72033345, 0.        , 0.        , 0.42544054,\n",
              "        0.        , 0.        ],\n",
              "       [0.54783215, 0.        , 0.        , 0.        , 0.42544054,\n",
              "        0.        , 0.72033345]])"
            ]
          },
          "metadata": {},
          "execution_count": 33
        }
      ]
    },
    {
      "cell_type": "code",
      "source": [
        "from sklearn.feature_extraction.text import CountVectorizer"
      ],
      "metadata": {
        "id": "X6oYes6ex9bi"
      },
      "execution_count": 34,
      "outputs": []
    },
    {
      "cell_type": "code",
      "source": [
        "vectorizer= CountVectorizer()"
      ],
      "metadata": {
        "id": "NBmOgVVjyXhG"
      },
      "execution_count": 35,
      "outputs": []
    },
    {
      "cell_type": "code",
      "source": [
        "x= vectorizer.fit_transform(corpus_new)"
      ],
      "metadata": {
        "id": "vcqUyDvqyZpP"
      },
      "execution_count": 36,
      "outputs": []
    },
    {
      "cell_type": "code",
      "source": [
        "x.toarray()"
      ],
      "metadata": {
        "colab": {
          "base_uri": "https://localhost:8080/"
        },
        "id": "Zkj_wJzsyfE8",
        "outputId": "1b921d50-b67d-4110-90fe-9a19739cc934"
      },
      "execution_count": 37,
      "outputs": [
        {
          "output_type": "execute_result",
          "data": {
            "text/plain": [
              "array([[0, 0, 1, 1, 1, 1, 0],\n",
              "       [1, 1, 0, 0, 1, 0, 0],\n",
              "       [1, 0, 0, 0, 1, 0, 1]])"
            ]
          },
          "metadata": {},
          "execution_count": 37
        }
      ]
    },
    {
      "cell_type": "markdown",
      "source": [
        "## Word2Vec"
      ],
      "metadata": {
        "id": "Bv47luac_nV6"
      }
    },
    {
      "cell_type": "code",
      "source": [
        "!pip install gensim"
      ],
      "metadata": {
        "colab": {
          "base_uri": "https://localhost:8080/"
        },
        "id": "URbtt2rDAPMg",
        "outputId": "4ec4db4c-a790-4cb3-b02b-8b192af478bc"
      },
      "execution_count": 38,
      "outputs": [
        {
          "output_type": "stream",
          "name": "stdout",
          "text": [
            "Collecting gensim\n",
            "  Downloading gensim-4.4.0-cp312-cp312-manylinux_2_24_x86_64.manylinux_2_28_x86_64.whl.metadata (8.4 kB)\n",
            "Requirement already satisfied: numpy>=1.18.5 in /usr/local/lib/python3.12/dist-packages (from gensim) (2.0.2)\n",
            "Requirement already satisfied: scipy>=1.7.0 in /usr/local/lib/python3.12/dist-packages (from gensim) (1.16.2)\n",
            "Requirement already satisfied: smart_open>=1.8.1 in /usr/local/lib/python3.12/dist-packages (from gensim) (7.4.1)\n",
            "Requirement already satisfied: wrapt in /usr/local/lib/python3.12/dist-packages (from smart_open>=1.8.1->gensim) (2.0.0)\n",
            "Downloading gensim-4.4.0-cp312-cp312-manylinux_2_24_x86_64.manylinux_2_28_x86_64.whl (27.9 MB)\n",
            "\u001b[2K   \u001b[90m━━━━━━━━━━━━━━━━━━━━━━━━━━━━━━━━━━━━━━━━\u001b[0m \u001b[32m27.9/27.9 MB\u001b[0m \u001b[31m21.6 MB/s\u001b[0m eta \u001b[36m0:00:00\u001b[0m\n",
            "\u001b[?25hInstalling collected packages: gensim\n",
            "Successfully installed gensim-4.4.0\n"
          ]
        }
      ]
    },
    {
      "cell_type": "code",
      "source": [
        "import nltk\n",
        "import string\n",
        "import matplotlib.pyplot as plt\n",
        "from gensim.models import Word2Vec\n",
        "from nltk.tokenize import word_tokenize\n",
        "from nltk.corpus import stopwords\n",
        "import numpy as np\n",
        "import re"
      ],
      "metadata": {
        "id": "SqjZwwwiywVE"
      },
      "execution_count": 39,
      "outputs": []
    },
    {
      "cell_type": "code",
      "source": [
        "nltk.download('punkt')\n",
        "nltk.download('stopwords')"
      ],
      "metadata": {
        "colab": {
          "base_uri": "https://localhost:8080/"
        },
        "id": "22l23aFvygGE",
        "outputId": "b0f37bfb-08eb-4b75-9845-b23500eaa30d"
      },
      "execution_count": 40,
      "outputs": [
        {
          "output_type": "stream",
          "name": "stderr",
          "text": [
            "[nltk_data] Downloading package punkt to /root/nltk_data...\n",
            "[nltk_data]   Unzipping tokenizers/punkt.zip.\n",
            "[nltk_data] Downloading package stopwords to /root/nltk_data...\n",
            "[nltk_data]   Unzipping corpora/stopwords.zip.\n"
          ]
        },
        {
          "output_type": "execute_result",
          "data": {
            "text/plain": [
              "True"
            ]
          },
          "metadata": {},
          "execution_count": 40
        }
      ]
    },
    {
      "cell_type": "code",
      "source": [
        "corpus=[\n",
        "    'my name is Sudhanshu kumar',\n",
        "    'i use to Teach all data stack along with ops and cloud!',\n",
        "    'fadll dlkjfkl #@*234 lkjdf #34533',\n",
        "    'nlp is very Amazing',\n",
        "    'We are trying to learn word2vec',\n",
        "    'we will try to build two models for word2vec - cbow and skipgram',\n",
        "    'we will also working on cleaning the data which is going to have some noisy data. it\"s basically part of pre-processing',\n",
        "    'nlp is a part of AI',\n",
        "    'word2vec is better than one hot encoding, tf-idf,bags of words'\n",
        "\n",
        "]"
      ],
      "metadata": {
        "id": "ZTbcyAFSBp9V"
      },
      "execution_count": 41,
      "outputs": []
    },
    {
      "cell_type": "code",
      "source": [
        "cleaned_corpus = [re.sub(r'\\d+', '', sentence.lower()) for sentence in corpus]\n"
      ],
      "metadata": {
        "id": "X7mda_keCb7y"
      },
      "execution_count": 42,
      "outputs": []
    },
    {
      "cell_type": "code",
      "source": [
        "cleaned_corpus"
      ],
      "metadata": {
        "colab": {
          "base_uri": "https://localhost:8080/"
        },
        "id": "jh6tg3ixEuTf",
        "outputId": "8c2a29df-7357-4c5f-b66d-f6c780b32b9f"
      },
      "execution_count": 43,
      "outputs": [
        {
          "output_type": "execute_result",
          "data": {
            "text/plain": [
              "['my name is sudhanshu kumar',\n",
              " 'i use to teach all data stack along with ops and cloud!',\n",
              " 'fadll dlkjfkl #@* lkjdf #',\n",
              " 'nlp is very amazing',\n",
              " 'we are trying to learn wordvec',\n",
              " 'we will try to build two models for wordvec - cbow and skipgram',\n",
              " 'we will also working on cleaning the data which is going to have some noisy data. it\"s basically part of pre-processing',\n",
              " 'nlp is a part of ai',\n",
              " 'wordvec is better than one hot encoding, tf-idf,bags of words']"
            ]
          },
          "metadata": {},
          "execution_count": 43
        }
      ]
    },
    {
      "cell_type": "code",
      "source": [
        "cleaned_corpus = [''.join(ch for ch in sentence if ch not in string.punctuation) for sentence in cleaned_corpus]\n"
      ],
      "metadata": {
        "id": "XUF0pzC3F3Am"
      },
      "execution_count": 44,
      "outputs": []
    },
    {
      "cell_type": "code",
      "source": [
        "cleaned_corpus\n",
        "\n"
      ],
      "metadata": {
        "colab": {
          "base_uri": "https://localhost:8080/"
        },
        "id": "YndzKsjHGdIF",
        "outputId": "f929d0bc-767e-411d-e8b1-67f01cebea89"
      },
      "execution_count": 45,
      "outputs": [
        {
          "output_type": "execute_result",
          "data": {
            "text/plain": [
              "['my name is sudhanshu kumar',\n",
              " 'i use to teach all data stack along with ops and cloud',\n",
              " 'fadll dlkjfkl  lkjdf ',\n",
              " 'nlp is very amazing',\n",
              " 'we are trying to learn wordvec',\n",
              " 'we will try to build two models for wordvec  cbow and skipgram',\n",
              " 'we will also working on cleaning the data which is going to have some noisy data its basically part of preprocessing',\n",
              " 'nlp is a part of ai',\n",
              " 'wordvec is better than one hot encoding tfidfbags of words']"
            ]
          },
          "metadata": {},
          "execution_count": 45
        }
      ]
    },
    {
      "cell_type": "code",
      "source": [
        "filtered_corpus = [\n",
        "    ' '.join([word for word in sentence.split() if word not in stopwords.words('english')])\n",
        "    for sentence in cleaned_corpus\n",
        "]\n",
        "\n",
        "print(filtered_corpus)"
      ],
      "metadata": {
        "colab": {
          "base_uri": "https://localhost:8080/"
        },
        "id": "OSikZq6SGfAa",
        "outputId": "42d53f35-bccd-4621-c693-bcf742df6736"
      },
      "execution_count": 46,
      "outputs": [
        {
          "output_type": "stream",
          "name": "stdout",
          "text": [
            "['name sudhanshu kumar', 'use teach data stack along ops cloud', 'fadll dlkjfkl lkjdf', 'nlp amazing', 'trying learn wordvec', 'try build two models wordvec cbow skipgram', 'also working cleaning data going noisy data basically part preprocessing', 'nlp part ai', 'wordvec better one hot encoding tfidfbags words']\n"
          ]
        }
      ]
    },
    {
      "cell_type": "code",
      "source": [
        "filtered_corpus"
      ],
      "metadata": {
        "colab": {
          "base_uri": "https://localhost:8080/"
        },
        "id": "uGi9sJFHGo0L",
        "outputId": "182516c8-24bd-4185-ed6f-7a66cdb452b3"
      },
      "execution_count": 47,
      "outputs": [
        {
          "output_type": "execute_result",
          "data": {
            "text/plain": [
              "['name sudhanshu kumar',\n",
              " 'use teach data stack along ops cloud',\n",
              " 'fadll dlkjfkl lkjdf',\n",
              " 'nlp amazing',\n",
              " 'trying learn wordvec',\n",
              " 'try build two models wordvec cbow skipgram',\n",
              " 'also working cleaning data going noisy data basically part preprocessing',\n",
              " 'nlp part ai',\n",
              " 'wordvec better one hot encoding tfidfbags words']"
            ]
          },
          "metadata": {},
          "execution_count": 47
        }
      ]
    },
    {
      "cell_type": "code",
      "source": [
        "tokenized_corpus = [sentence.split() for sentence in filtered_corpus]\n",
        "tokenized_corpus\n"
      ],
      "metadata": {
        "colab": {
          "base_uri": "https://localhost:8080/"
        },
        "id": "UvIB95oKJpzX",
        "outputId": "bf3ac877-e3d5-432f-dcd2-370c83aa660a"
      },
      "execution_count": 48,
      "outputs": [
        {
          "output_type": "execute_result",
          "data": {
            "text/plain": [
              "[['name', 'sudhanshu', 'kumar'],\n",
              " ['use', 'teach', 'data', 'stack', 'along', 'ops', 'cloud'],\n",
              " ['fadll', 'dlkjfkl', 'lkjdf'],\n",
              " ['nlp', 'amazing'],\n",
              " ['trying', 'learn', 'wordvec'],\n",
              " ['try', 'build', 'two', 'models', 'wordvec', 'cbow', 'skipgram'],\n",
              " ['also',\n",
              "  'working',\n",
              "  'cleaning',\n",
              "  'data',\n",
              "  'going',\n",
              "  'noisy',\n",
              "  'data',\n",
              "  'basically',\n",
              "  'part',\n",
              "  'preprocessing'],\n",
              " ['nlp', 'part', 'ai'],\n",
              " ['wordvec', 'better', 'one', 'hot', 'encoding', 'tfidfbags', 'words']]"
            ]
          },
          "metadata": {},
          "execution_count": 48
        }
      ]
    },
    {
      "cell_type": "markdown",
      "source": [],
      "metadata": {
        "id": "ZL_pD-11RgWp"
      }
    },
    {
      "cell_type": "code",
      "source": [
        "word2vec_cbow=Word2Vec(sentences=tokenized_corpus,vector_size=100,window=5,min_count=1,sg=0)"
      ],
      "metadata": {
        "id": "886_it6_J94b"
      },
      "execution_count": 49,
      "outputs": []
    },
    {
      "cell_type": "code",
      "source": [
        "word2vec_skipgram=Word2Vec(sentences=tokenized_corpus,vector_size=100,window=5,min_count=1,sg=1)"
      ],
      "metadata": {
        "id": "VmLmsC5UKoGX"
      },
      "execution_count": 50,
      "outputs": []
    },
    {
      "cell_type": "code",
      "source": [
        "word2vec_cbow"
      ],
      "metadata": {
        "id": "5HQpy2KfRsaV",
        "colab": {
          "base_uri": "https://localhost:8080/"
        },
        "outputId": "d1180df9-5431-4a9d-8b28-b4dbdef22bbc"
      },
      "execution_count": 51,
      "outputs": [
        {
          "output_type": "execute_result",
          "data": {
            "text/plain": [
              "<gensim.models.word2vec.Word2Vec at 0x7dead2d8a0f0>"
            ]
          },
          "metadata": {},
          "execution_count": 51
        }
      ]
    },
    {
      "cell_type": "code",
      "source": [
        "word2vec_skipgram.wv.most_similar(['sudhanshu'],topn=3)"
      ],
      "metadata": {
        "colab": {
          "base_uri": "https://localhost:8080/"
        },
        "id": "yJM96HjN7lVI",
        "outputId": "f4521f8c-9fe1-4243-b159-71c17a72b2f6"
      },
      "execution_count": 56,
      "outputs": [
        {
          "output_type": "execute_result",
          "data": {
            "text/plain": [
              "[('encoding', 0.3489443063735962),\n",
              " ('basically', 0.24768778681755066),\n",
              " ('hot', 0.2038525640964508)]"
            ]
          },
          "metadata": {},
          "execution_count": 56
        }
      ]
    },
    {
      "cell_type": "code",
      "source": [
        "word2vec_cbow.wv.most_similar(['sudhanshu'],topn=3)"
      ],
      "metadata": {
        "colab": {
          "base_uri": "https://localhost:8080/"
        },
        "id": "uN1jZ3tt7nnv",
        "outputId": "16b56f06-6b6b-42ef-83ce-fba5c6cc8a31"
      },
      "execution_count": 57,
      "outputs": [
        {
          "output_type": "execute_result",
          "data": {
            "text/plain": [
              "[('encoding', 0.3488069772720337),\n",
              " ('basically', 0.24770984053611755),\n",
              " ('hot', 0.2039506733417511)]"
            ]
          },
          "metadata": {},
          "execution_count": 57
        }
      ]
    },
    {
      "cell_type": "code",
      "source": [
        "word2vec_cbow.wv.index_to_key"
      ],
      "metadata": {
        "colab": {
          "base_uri": "https://localhost:8080/"
        },
        "id": "bb0nLMQv-37a",
        "outputId": "cacf5226-2170-4ceb-d6be-86f1ff5ef58a"
      },
      "execution_count": 58,
      "outputs": [
        {
          "output_type": "execute_result",
          "data": {
            "text/plain": [
              "['wordvec',\n",
              " 'data',\n",
              " 'part',\n",
              " 'nlp',\n",
              " 'words',\n",
              " 'tfidfbags',\n",
              " 'encoding',\n",
              " 'hot',\n",
              " 'one',\n",
              " 'better',\n",
              " 'ai',\n",
              " 'preprocessing',\n",
              " 'basically',\n",
              " 'noisy',\n",
              " 'going',\n",
              " 'cleaning',\n",
              " 'working',\n",
              " 'also',\n",
              " 'skipgram',\n",
              " 'cbow',\n",
              " 'models',\n",
              " 'two',\n",
              " 'build',\n",
              " 'try',\n",
              " 'learn',\n",
              " 'trying',\n",
              " 'amazing',\n",
              " 'lkjdf',\n",
              " 'dlkjfkl',\n",
              " 'fadll',\n",
              " 'cloud',\n",
              " 'ops',\n",
              " 'along',\n",
              " 'stack',\n",
              " 'teach',\n",
              " 'use',\n",
              " 'kumar',\n",
              " 'sudhanshu',\n",
              " 'name']"
            ]
          },
          "metadata": {},
          "execution_count": 58
        }
      ]
    },
    {
      "cell_type": "code",
      "source": [],
      "metadata": {
        "id": "yEW0tKmH_QCp"
      },
      "execution_count": null,
      "outputs": []
    }
  ]
}